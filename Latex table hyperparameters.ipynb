{
 "cells": [
  {
   "cell_type": "code",
   "execution_count": 11,
   "id": "fa0188d1",
   "metadata": {
    "ExecuteTime": {
     "end_time": "2022-08-12T13:03:00.754412Z",
     "start_time": "2022-08-12T13:03:00.736248Z"
    }
   },
   "outputs": [],
   "source": [
    "import pandas as pd\n",
    "\n",
    "hps = pd.read_excel(\"paper/Final hyperparameters random init.xlsx\", header=1)"
   ]
  },
  {
   "cell_type": "code",
   "execution_count": 12,
   "id": "44c18fff",
   "metadata": {
    "ExecuteTime": {
     "end_time": "2022-08-12T13:03:00.988279Z",
     "start_time": "2022-08-12T13:03:00.970248Z"
    }
   },
   "outputs": [
    {
     "data": {
      "text/html": [
       "<div>\n",
       "<style scoped>\n",
       "    .dataframe tbody tr th:only-of-type {\n",
       "        vertical-align: middle;\n",
       "    }\n",
       "\n",
       "    .dataframe tbody tr th {\n",
       "        vertical-align: top;\n",
       "    }\n",
       "\n",
       "    .dataframe thead th {\n",
       "        text-align: right;\n",
       "    }\n",
       "</style>\n",
       "<table border=\"1\" class=\"dataframe\">\n",
       "  <thead>\n",
       "    <tr style=\"text-align: right;\">\n",
       "      <th></th>\n",
       "      <th>Equivariant?</th>\n",
       "      <th>Hyperparameter</th>\n",
       "      <th>BACH</th>\n",
       "      <th>BreaKHis</th>\n",
       "      <th>NCT</th>\n",
       "      <th>Pcam</th>\n",
       "    </tr>\n",
       "  </thead>\n",
       "  <tbody>\n",
       "    <tr>\n",
       "      <th>0</th>\n",
       "      <td>No</td>\n",
       "      <td>Learning rate</td>\n",
       "      <td>0.0001</td>\n",
       "      <td>0.0001</td>\n",
       "      <td>0.001</td>\n",
       "      <td>0.001</td>\n",
       "    </tr>\n",
       "    <tr>\n",
       "      <th>1</th>\n",
       "      <td>NaN</td>\n",
       "      <td>Optimizer</td>\n",
       "      <td>Adam</td>\n",
       "      <td>Adam</td>\n",
       "      <td>Adam</td>\n",
       "      <td>Adam</td>\n",
       "    </tr>\n",
       "    <tr>\n",
       "      <th>2</th>\n",
       "      <td>NaN</td>\n",
       "      <td>Weight decay</td>\n",
       "      <td>0.00001</td>\n",
       "      <td>0.0001</td>\n",
       "      <td>0.0001</td>\n",
       "      <td>0.0001</td>\n",
       "    </tr>\n",
       "    <tr>\n",
       "      <th>3</th>\n",
       "      <td>Yes</td>\n",
       "      <td>Learning rate</td>\n",
       "      <td>0.001</td>\n",
       "      <td>0.01</td>\n",
       "      <td>0.001</td>\n",
       "      <td>0.01</td>\n",
       "    </tr>\n",
       "    <tr>\n",
       "      <th>4</th>\n",
       "      <td>NaN</td>\n",
       "      <td>Optimizer</td>\n",
       "      <td>Adam</td>\n",
       "      <td>Adam</td>\n",
       "      <td>Adam</td>\n",
       "      <td>Adam</td>\n",
       "    </tr>\n",
       "    <tr>\n",
       "      <th>5</th>\n",
       "      <td>NaN</td>\n",
       "      <td>Weight decay</td>\n",
       "      <td>0.000001</td>\n",
       "      <td>0.00001</td>\n",
       "      <td>0.0001</td>\n",
       "      <td>0.00001</td>\n",
       "    </tr>\n",
       "  </tbody>\n",
       "</table>\n",
       "</div>"
      ],
      "text/plain": [
       "  Equivariant? Hyperparameter      BACH BreaKHis     NCT     Pcam\n",
       "0           No  Learning rate    0.0001   0.0001   0.001    0.001\n",
       "1          NaN      Optimizer      Adam     Adam    Adam     Adam\n",
       "2          NaN   Weight decay   0.00001   0.0001  0.0001   0.0001\n",
       "3          Yes  Learning rate     0.001     0.01   0.001     0.01\n",
       "4          NaN      Optimizer      Adam     Adam    Adam     Adam\n",
       "5          NaN   Weight decay  0.000001  0.00001  0.0001  0.00001"
      ]
     },
     "execution_count": 12,
     "metadata": {},
     "output_type": "execute_result"
    }
   ],
   "source": [
    "hps"
   ]
  },
  {
   "cell_type": "code",
   "execution_count": 14,
   "id": "ee7f6101",
   "metadata": {
    "ExecuteTime": {
     "end_time": "2022-08-12T13:03:30.259375Z",
     "start_time": "2022-08-12T13:03:30.244139Z"
    }
   },
   "outputs": [
    {
     "name": "stdout",
     "output_type": "stream",
     "text": [
      "\\begin{tabular}{lllllll}\n",
      "\\toprule\n",
      "{} & Equivariant? & Hyperparameter &      BACH & BreaKHis &     NCT &     Pcam \\\\\n",
      "\\midrule\n",
      "0 &           No &  Learning rate &    0.0001 &   0.0001 &   0.001 &    0.001 \\\\\n",
      "1 &          NaN &      Optimizer &      Adam &     Adam &    Adam &     Adam \\\\\n",
      "2 &          NaN &   Weight decay &   0.00001 &   0.0001 &  0.0001 &   0.0001 \\\\\n",
      "3 &          Yes &  Learning rate &     0.001 &     0.01 &   0.001 &     0.01 \\\\\n",
      "4 &          NaN &      Optimizer &      Adam &     Adam &    Adam &     Adam \\\\\n",
      "5 &          NaN &   Weight decay &  0.000001 &  0.00001 &  0.0001 &  0.00001 \\\\\n",
      "\\bottomrule\n",
      "\\end{tabular}\n",
      "\n"
     ]
    }
   ],
   "source": [
    "print(hps.to_latex())"
   ]
  },
  {
   "cell_type": "code",
   "execution_count": null,
   "id": "c93feb21",
   "metadata": {},
   "outputs": [],
   "source": []
  }
 ],
 "metadata": {
  "kernelspec": {
   "display_name": "Python 3 (ipykernel)",
   "language": "python",
   "name": "python3"
  },
  "language_info": {
   "codemirror_mode": {
    "name": "ipython",
    "version": 3
   },
   "file_extension": ".py",
   "mimetype": "text/x-python",
   "name": "python",
   "nbconvert_exporter": "python",
   "pygments_lexer": "ipython3",
   "version": "3.9.7"
  }
 },
 "nbformat": 4,
 "nbformat_minor": 5
}
