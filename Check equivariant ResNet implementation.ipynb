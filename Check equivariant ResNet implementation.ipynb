{
 "cells": [
  {
   "cell_type": "code",
   "execution_count": 5,
   "metadata": {
    "ExecuteTime": {
     "end_time": "2022-05-08T09:00:12.313446Z",
     "start_time": "2022-05-08T09:00:12.299310Z"
    }
   },
   "outputs": [],
   "source": [
    "from models import get_model\n",
    "from models import E2ResNet, E2BasicBlock, E2Bottleneck\n",
    "from models.resnet import ResNet\n",
    "from torchvision.models.resnet import BasicBlock, Bottleneck\n",
    "from torchsummary import summary\n",
    "from torchvision.models import resnet50\n",
    "\n",
    "# to prevent notebook from crashing\n",
    "# source: https://stackoverflow.com/questions/20554074/sklearn-omp-error-15-initializing-libiomp5md-dll-but-found-mk2iomp5md-dll-a\n",
    "import os\n",
    "os.environ[\"KMP_DUPLICATE_LIB_OK\"]=\"TRUE\""
   ]
  },
  {
   "cell_type": "code",
   "execution_count": 7,
   "metadata": {
    "ExecuteTime": {
     "end_time": "2022-05-08T09:00:21.631106Z",
     "start_time": "2022-05-08T09:00:21.354873Z"
    }
   },
   "outputs": [],
   "source": [
    "resnet50 = resnet50(num_classes=2)"
   ]
  },
  {
   "cell_type": "code",
   "execution_count": 1,
   "metadata": {
    "ExecuteTime": {
     "end_time": "2022-05-08T15:25:19.206860Z",
     "start_time": "2022-05-08T15:25:19.057851Z"
    }
   },
   "outputs": [
    {
     "data": {
      "text/plain": [
       "22.627416997969522"
      ]
     },
     "execution_count": 1,
     "metadata": {},
     "output_type": "execute_result"
    }
   ],
   "source": [
    "import numpy as np\n",
    "8*np.sqrt(8)"
   ]
  },
  {
   "cell_type": "code",
   "execution_count": 8,
   "metadata": {
    "ExecuteTime": {
     "end_time": "2022-05-08T09:00:21.708804Z",
     "start_time": "2022-05-08T09:00:21.684672Z"
    },
    "scrolled": true
   },
   "outputs": [
    {
     "data": {
      "text/plain": [
       "ResNet(\n",
       "  (conv1): Conv2d(3, 64, kernel_size=(7, 7), stride=(2, 2), padding=(3, 3), bias=False)\n",
       "  (bn1): BatchNorm2d(64, eps=1e-05, momentum=0.1, affine=True, track_running_stats=True)\n",
       "  (relu): ReLU(inplace=True)\n",
       "  (maxpool): MaxPool2d(kernel_size=3, stride=2, padding=1, dilation=1, ceil_mode=False)\n",
       "  (layer1): Sequential(\n",
       "    (0): Bottleneck(\n",
       "      (conv1): Conv2d(64, 64, kernel_size=(1, 1), stride=(1, 1), bias=False)\n",
       "      (bn1): BatchNorm2d(64, eps=1e-05, momentum=0.1, affine=True, track_running_stats=True)\n",
       "      (conv2): Conv2d(64, 64, kernel_size=(3, 3), stride=(1, 1), padding=(1, 1), bias=False)\n",
       "      (bn2): BatchNorm2d(64, eps=1e-05, momentum=0.1, affine=True, track_running_stats=True)\n",
       "      (conv3): Conv2d(64, 256, kernel_size=(1, 1), stride=(1, 1), bias=False)\n",
       "      (bn3): BatchNorm2d(256, eps=1e-05, momentum=0.1, affine=True, track_running_stats=True)\n",
       "      (relu): ReLU(inplace=True)\n",
       "      (downsample): Sequential(\n",
       "        (0): Conv2d(64, 256, kernel_size=(1, 1), stride=(1, 1), bias=False)\n",
       "        (1): BatchNorm2d(256, eps=1e-05, momentum=0.1, affine=True, track_running_stats=True)\n",
       "      )\n",
       "    )\n",
       "    (1): Bottleneck(\n",
       "      (conv1): Conv2d(256, 64, kernel_size=(1, 1), stride=(1, 1), bias=False)\n",
       "      (bn1): BatchNorm2d(64, eps=1e-05, momentum=0.1, affine=True, track_running_stats=True)\n",
       "      (conv2): Conv2d(64, 64, kernel_size=(3, 3), stride=(1, 1), padding=(1, 1), bias=False)\n",
       "      (bn2): BatchNorm2d(64, eps=1e-05, momentum=0.1, affine=True, track_running_stats=True)\n",
       "      (conv3): Conv2d(64, 256, kernel_size=(1, 1), stride=(1, 1), bias=False)\n",
       "      (bn3): BatchNorm2d(256, eps=1e-05, momentum=0.1, affine=True, track_running_stats=True)\n",
       "      (relu): ReLU(inplace=True)\n",
       "    )\n",
       "    (2): Bottleneck(\n",
       "      (conv1): Conv2d(256, 64, kernel_size=(1, 1), stride=(1, 1), bias=False)\n",
       "      (bn1): BatchNorm2d(64, eps=1e-05, momentum=0.1, affine=True, track_running_stats=True)\n",
       "      (conv2): Conv2d(64, 64, kernel_size=(3, 3), stride=(1, 1), padding=(1, 1), bias=False)\n",
       "      (bn2): BatchNorm2d(64, eps=1e-05, momentum=0.1, affine=True, track_running_stats=True)\n",
       "      (conv3): Conv2d(64, 256, kernel_size=(1, 1), stride=(1, 1), bias=False)\n",
       "      (bn3): BatchNorm2d(256, eps=1e-05, momentum=0.1, affine=True, track_running_stats=True)\n",
       "      (relu): ReLU(inplace=True)\n",
       "    )\n",
       "  )\n",
       "  (layer2): Sequential(\n",
       "    (0): Bottleneck(\n",
       "      (conv1): Conv2d(256, 128, kernel_size=(1, 1), stride=(1, 1), bias=False)\n",
       "      (bn1): BatchNorm2d(128, eps=1e-05, momentum=0.1, affine=True, track_running_stats=True)\n",
       "      (conv2): Conv2d(128, 128, kernel_size=(3, 3), stride=(2, 2), padding=(1, 1), bias=False)\n",
       "      (bn2): BatchNorm2d(128, eps=1e-05, momentum=0.1, affine=True, track_running_stats=True)\n",
       "      (conv3): Conv2d(128, 512, kernel_size=(1, 1), stride=(1, 1), bias=False)\n",
       "      (bn3): BatchNorm2d(512, eps=1e-05, momentum=0.1, affine=True, track_running_stats=True)\n",
       "      (relu): ReLU(inplace=True)\n",
       "      (downsample): Sequential(\n",
       "        (0): Conv2d(256, 512, kernel_size=(1, 1), stride=(2, 2), bias=False)\n",
       "        (1): BatchNorm2d(512, eps=1e-05, momentum=0.1, affine=True, track_running_stats=True)\n",
       "      )\n",
       "    )\n",
       "    (1): Bottleneck(\n",
       "      (conv1): Conv2d(512, 128, kernel_size=(1, 1), stride=(1, 1), bias=False)\n",
       "      (bn1): BatchNorm2d(128, eps=1e-05, momentum=0.1, affine=True, track_running_stats=True)\n",
       "      (conv2): Conv2d(128, 128, kernel_size=(3, 3), stride=(1, 1), padding=(1, 1), bias=False)\n",
       "      (bn2): BatchNorm2d(128, eps=1e-05, momentum=0.1, affine=True, track_running_stats=True)\n",
       "      (conv3): Conv2d(128, 512, kernel_size=(1, 1), stride=(1, 1), bias=False)\n",
       "      (bn3): BatchNorm2d(512, eps=1e-05, momentum=0.1, affine=True, track_running_stats=True)\n",
       "      (relu): ReLU(inplace=True)\n",
       "    )\n",
       "    (2): Bottleneck(\n",
       "      (conv1): Conv2d(512, 128, kernel_size=(1, 1), stride=(1, 1), bias=False)\n",
       "      (bn1): BatchNorm2d(128, eps=1e-05, momentum=0.1, affine=True, track_running_stats=True)\n",
       "      (conv2): Conv2d(128, 128, kernel_size=(3, 3), stride=(1, 1), padding=(1, 1), bias=False)\n",
       "      (bn2): BatchNorm2d(128, eps=1e-05, momentum=0.1, affine=True, track_running_stats=True)\n",
       "      (conv3): Conv2d(128, 512, kernel_size=(1, 1), stride=(1, 1), bias=False)\n",
       "      (bn3): BatchNorm2d(512, eps=1e-05, momentum=0.1, affine=True, track_running_stats=True)\n",
       "      (relu): ReLU(inplace=True)\n",
       "    )\n",
       "    (3): Bottleneck(\n",
       "      (conv1): Conv2d(512, 128, kernel_size=(1, 1), stride=(1, 1), bias=False)\n",
       "      (bn1): BatchNorm2d(128, eps=1e-05, momentum=0.1, affine=True, track_running_stats=True)\n",
       "      (conv2): Conv2d(128, 128, kernel_size=(3, 3), stride=(1, 1), padding=(1, 1), bias=False)\n",
       "      (bn2): BatchNorm2d(128, eps=1e-05, momentum=0.1, affine=True, track_running_stats=True)\n",
       "      (conv3): Conv2d(128, 512, kernel_size=(1, 1), stride=(1, 1), bias=False)\n",
       "      (bn3): BatchNorm2d(512, eps=1e-05, momentum=0.1, affine=True, track_running_stats=True)\n",
       "      (relu): ReLU(inplace=True)\n",
       "    )\n",
       "  )\n",
       "  (layer3): Sequential(\n",
       "    (0): Bottleneck(\n",
       "      (conv1): Conv2d(512, 256, kernel_size=(1, 1), stride=(1, 1), bias=False)\n",
       "      (bn1): BatchNorm2d(256, eps=1e-05, momentum=0.1, affine=True, track_running_stats=True)\n",
       "      (conv2): Conv2d(256, 256, kernel_size=(3, 3), stride=(2, 2), padding=(1, 1), bias=False)\n",
       "      (bn2): BatchNorm2d(256, eps=1e-05, momentum=0.1, affine=True, track_running_stats=True)\n",
       "      (conv3): Conv2d(256, 1024, kernel_size=(1, 1), stride=(1, 1), bias=False)\n",
       "      (bn3): BatchNorm2d(1024, eps=1e-05, momentum=0.1, affine=True, track_running_stats=True)\n",
       "      (relu): ReLU(inplace=True)\n",
       "      (downsample): Sequential(\n",
       "        (0): Conv2d(512, 1024, kernel_size=(1, 1), stride=(2, 2), bias=False)\n",
       "        (1): BatchNorm2d(1024, eps=1e-05, momentum=0.1, affine=True, track_running_stats=True)\n",
       "      )\n",
       "    )\n",
       "    (1): Bottleneck(\n",
       "      (conv1): Conv2d(1024, 256, kernel_size=(1, 1), stride=(1, 1), bias=False)\n",
       "      (bn1): BatchNorm2d(256, eps=1e-05, momentum=0.1, affine=True, track_running_stats=True)\n",
       "      (conv2): Conv2d(256, 256, kernel_size=(3, 3), stride=(1, 1), padding=(1, 1), bias=False)\n",
       "      (bn2): BatchNorm2d(256, eps=1e-05, momentum=0.1, affine=True, track_running_stats=True)\n",
       "      (conv3): Conv2d(256, 1024, kernel_size=(1, 1), stride=(1, 1), bias=False)\n",
       "      (bn3): BatchNorm2d(1024, eps=1e-05, momentum=0.1, affine=True, track_running_stats=True)\n",
       "      (relu): ReLU(inplace=True)\n",
       "    )\n",
       "    (2): Bottleneck(\n",
       "      (conv1): Conv2d(1024, 256, kernel_size=(1, 1), stride=(1, 1), bias=False)\n",
       "      (bn1): BatchNorm2d(256, eps=1e-05, momentum=0.1, affine=True, track_running_stats=True)\n",
       "      (conv2): Conv2d(256, 256, kernel_size=(3, 3), stride=(1, 1), padding=(1, 1), bias=False)\n",
       "      (bn2): BatchNorm2d(256, eps=1e-05, momentum=0.1, affine=True, track_running_stats=True)\n",
       "      (conv3): Conv2d(256, 1024, kernel_size=(1, 1), stride=(1, 1), bias=False)\n",
       "      (bn3): BatchNorm2d(1024, eps=1e-05, momentum=0.1, affine=True, track_running_stats=True)\n",
       "      (relu): ReLU(inplace=True)\n",
       "    )\n",
       "    (3): Bottleneck(\n",
       "      (conv1): Conv2d(1024, 256, kernel_size=(1, 1), stride=(1, 1), bias=False)\n",
       "      (bn1): BatchNorm2d(256, eps=1e-05, momentum=0.1, affine=True, track_running_stats=True)\n",
       "      (conv2): Conv2d(256, 256, kernel_size=(3, 3), stride=(1, 1), padding=(1, 1), bias=False)\n",
       "      (bn2): BatchNorm2d(256, eps=1e-05, momentum=0.1, affine=True, track_running_stats=True)\n",
       "      (conv3): Conv2d(256, 1024, kernel_size=(1, 1), stride=(1, 1), bias=False)\n",
       "      (bn3): BatchNorm2d(1024, eps=1e-05, momentum=0.1, affine=True, track_running_stats=True)\n",
       "      (relu): ReLU(inplace=True)\n",
       "    )\n",
       "    (4): Bottleneck(\n",
       "      (conv1): Conv2d(1024, 256, kernel_size=(1, 1), stride=(1, 1), bias=False)\n",
       "      (bn1): BatchNorm2d(256, eps=1e-05, momentum=0.1, affine=True, track_running_stats=True)\n",
       "      (conv2): Conv2d(256, 256, kernel_size=(3, 3), stride=(1, 1), padding=(1, 1), bias=False)\n",
       "      (bn2): BatchNorm2d(256, eps=1e-05, momentum=0.1, affine=True, track_running_stats=True)\n",
       "      (conv3): Conv2d(256, 1024, kernel_size=(1, 1), stride=(1, 1), bias=False)\n",
       "      (bn3): BatchNorm2d(1024, eps=1e-05, momentum=0.1, affine=True, track_running_stats=True)\n",
       "      (relu): ReLU(inplace=True)\n",
       "    )\n",
       "    (5): Bottleneck(\n",
       "      (conv1): Conv2d(1024, 256, kernel_size=(1, 1), stride=(1, 1), bias=False)\n",
       "      (bn1): BatchNorm2d(256, eps=1e-05, momentum=0.1, affine=True, track_running_stats=True)\n",
       "      (conv2): Conv2d(256, 256, kernel_size=(3, 3), stride=(1, 1), padding=(1, 1), bias=False)\n",
       "      (bn2): BatchNorm2d(256, eps=1e-05, momentum=0.1, affine=True, track_running_stats=True)\n",
       "      (conv3): Conv2d(256, 1024, kernel_size=(1, 1), stride=(1, 1), bias=False)\n",
       "      (bn3): BatchNorm2d(1024, eps=1e-05, momentum=0.1, affine=True, track_running_stats=True)\n",
       "      (relu): ReLU(inplace=True)\n",
       "    )\n",
       "  )\n",
       "  (layer4): Sequential(\n",
       "    (0): Bottleneck(\n",
       "      (conv1): Conv2d(1024, 512, kernel_size=(1, 1), stride=(1, 1), bias=False)\n",
       "      (bn1): BatchNorm2d(512, eps=1e-05, momentum=0.1, affine=True, track_running_stats=True)\n",
       "      (conv2): Conv2d(512, 512, kernel_size=(3, 3), stride=(2, 2), padding=(1, 1), bias=False)\n",
       "      (bn2): BatchNorm2d(512, eps=1e-05, momentum=0.1, affine=True, track_running_stats=True)\n",
       "      (conv3): Conv2d(512, 2048, kernel_size=(1, 1), stride=(1, 1), bias=False)\n",
       "      (bn3): BatchNorm2d(2048, eps=1e-05, momentum=0.1, affine=True, track_running_stats=True)\n",
       "      (relu): ReLU(inplace=True)\n",
       "      (downsample): Sequential(\n",
       "        (0): Conv2d(1024, 2048, kernel_size=(1, 1), stride=(2, 2), bias=False)\n",
       "        (1): BatchNorm2d(2048, eps=1e-05, momentum=0.1, affine=True, track_running_stats=True)\n",
       "      )\n",
       "    )\n",
       "    (1): Bottleneck(\n",
       "      (conv1): Conv2d(2048, 512, kernel_size=(1, 1), stride=(1, 1), bias=False)\n",
       "      (bn1): BatchNorm2d(512, eps=1e-05, momentum=0.1, affine=True, track_running_stats=True)\n",
       "      (conv2): Conv2d(512, 512, kernel_size=(3, 3), stride=(1, 1), padding=(1, 1), bias=False)\n",
       "      (bn2): BatchNorm2d(512, eps=1e-05, momentum=0.1, affine=True, track_running_stats=True)\n",
       "      (conv3): Conv2d(512, 2048, kernel_size=(1, 1), stride=(1, 1), bias=False)\n",
       "      (bn3): BatchNorm2d(2048, eps=1e-05, momentum=0.1, affine=True, track_running_stats=True)\n",
       "      (relu): ReLU(inplace=True)\n",
       "    )\n",
       "    (2): Bottleneck(\n",
       "      (conv1): Conv2d(2048, 512, kernel_size=(1, 1), stride=(1, 1), bias=False)\n",
       "      (bn1): BatchNorm2d(512, eps=1e-05, momentum=0.1, affine=True, track_running_stats=True)\n",
       "      (conv2): Conv2d(512, 512, kernel_size=(3, 3), stride=(1, 1), padding=(1, 1), bias=False)\n",
       "      (bn2): BatchNorm2d(512, eps=1e-05, momentum=0.1, affine=True, track_running_stats=True)\n",
       "      (conv3): Conv2d(512, 2048, kernel_size=(1, 1), stride=(1, 1), bias=False)\n",
       "      (bn3): BatchNorm2d(2048, eps=1e-05, momentum=0.1, affine=True, track_running_stats=True)\n",
       "      (relu): ReLU(inplace=True)\n",
       "    )\n",
       "  )\n",
       "  (avgpool): AdaptiveAvgPool2d(output_size=(1, 1))\n",
       "  (fc): Linear(in_features=2048, out_features=2, bias=True)\n",
       ")"
      ]
     },
     "execution_count": 8,
     "metadata": {},
     "output_type": "execute_result"
    }
   ],
   "source": [
    "resnet50"
   ]
  },
  {
   "cell_type": "code",
   "execution_count": 9,
   "metadata": {
    "ExecuteTime": {
     "end_time": "2022-05-08T12:10:23.115119Z",
     "start_time": "2022-05-08T12:10:23.091038Z"
    }
   },
   "outputs": [
    {
     "data": {
      "text/plain": [
       "2048"
      ]
     },
     "execution_count": 9,
     "metadata": {},
     "output_type": "execute_result"
    }
   ],
   "source": [
    "8*256"
   ]
  },
  {
   "cell_type": "code",
   "execution_count": 4,
   "metadata": {
    "ExecuteTime": {
     "end_time": "2022-05-08T09:00:07.350641Z",
     "start_time": "2022-05-08T09:00:07.338608Z"
    }
   },
   "outputs": [],
   "source": [
    "# from models.e2_wide_resnet import e2wrn28_7R\n",
    "# e2_wrn = e2wrn28_7R(num_classes=2)\n",
    "# e2_wrn\n",
    "# summary(e2_wrn, (3, 96, 96), device=\"cpu\")"
   ]
  },
  {
   "cell_type": "code",
   "execution_count": 10,
   "metadata": {
    "ExecuteTime": {
     "end_time": "2022-05-05T14:18:19.842145Z",
     "start_time": "2022-05-05T14:17:52.771725Z"
    },
    "scrolled": true
   },
   "outputs": [
    {
     "name": "stdout",
     "output_type": "stream",
     "text": [
      "64\n",
      "changed fix_params to argument\n",
      "self.gspace.order 8\n",
      "next in type [8-Rotations: 8 representations]\n",
      "dont restrict layer 1\n",
      "Total number of learnable parameters: 3227434\n"
     ]
    }
   ],
   "source": [
    "# model = get_model(\"e2_resnet18\", 2, None)\n",
    "# resnet18\n",
    "model = E2ResNet(num_classes=2,\n",
    "                 block=E2BasicBlock,\n",
    "                 layers=[2, 2, 2, 2],\n",
    "                 fixparams=False,\n",
    "                 f=False, # not equivariant to flips\n",
    "                 r=-1,  # no layer restriction\n",
    "                 conv2triv=False)"
   ]
  },
  {
   "cell_type": "code",
   "execution_count": 11,
   "metadata": {
    "ExecuteTime": {
     "end_time": "2022-05-05T14:18:19.904094Z",
     "start_time": "2022-05-05T14:18:19.844290Z"
    }
   },
   "outputs": [
    {
     "data": {
      "text/plain": [
       "E2ResNet(\n",
       "  (conv1): R2Conv([8-Rotations: 3 representations], [8-Rotations: 8 representations], kernel_size=5, stride=1, padding=2, bias=False)\n",
       "  (bn1): InnerBatchNorm([8-Rotations: 8 representations], eps=1e-05, momentum=0.1, affine=True, track_running_stats=True)\n",
       "  (relu): ReLU(inplace=True, type=[8-Rotations: 8 representations])\n",
       "  (maxpool): PointwiseMaxPool()\n",
       "  (layer1): SequentialModule(\n",
       "    (0): E2BasicBlock(\n",
       "      (conv1): R2Conv([8-Rotations: 8 representations], [8-Rotations: 8 representations], kernel_size=5, stride=1, padding=2, bias=False)\n",
       "      (bn1): InnerBatchNorm([8-Rotations: 8 representations], eps=1e-05, momentum=0.1, affine=True, track_running_stats=True)\n",
       "      (relu): ReLU(inplace=True, type=[8-Rotations: 8 representations])\n",
       "      (conv2): R2Conv([8-Rotations: 8 representations], [8-Rotations: 8 representations], kernel_size=5, stride=1, padding=2, bias=False)\n",
       "      (bn2): InnerBatchNorm([8-Rotations: 8 representations], eps=1e-05, momentum=0.1, affine=True, track_running_stats=True)\n",
       "      (relu2): ReLU(inplace=True, type=[8-Rotations: 8 representations])\n",
       "    )\n",
       "    (1): E2BasicBlock(\n",
       "      (conv1): R2Conv([8-Rotations: 8 representations], [8-Rotations: 8 representations], kernel_size=5, stride=1, padding=2, bias=False)\n",
       "      (bn1): InnerBatchNorm([8-Rotations: 8 representations], eps=1e-05, momentum=0.1, affine=True, track_running_stats=True)\n",
       "      (relu): ReLU(inplace=True, type=[8-Rotations: 8 representations])\n",
       "      (conv2): R2Conv([8-Rotations: 8 representations], [8-Rotations: 8 representations], kernel_size=5, stride=1, padding=2, bias=False)\n",
       "      (bn2): InnerBatchNorm([8-Rotations: 8 representations], eps=1e-05, momentum=0.1, affine=True, track_running_stats=True)\n",
       "      (relu2): ReLU(inplace=True, type=[8-Rotations: 8 representations])\n",
       "    )\n",
       "  )\n",
       "  (layer2): SequentialModule(\n",
       "    (0): E2BasicBlock(\n",
       "      (conv1): R2Conv([8-Rotations: 8 representations], [8-Rotations: 16 representations], kernel_size=5, stride=2, padding=2, bias=False)\n",
       "      (bn1): InnerBatchNorm([8-Rotations: 16 representations], eps=1e-05, momentum=0.1, affine=True, track_running_stats=True)\n",
       "      (relu): ReLU(inplace=True, type=[8-Rotations: 16 representations])\n",
       "      (conv2): R2Conv([8-Rotations: 16 representations], [8-Rotations: 16 representations], kernel_size=5, stride=1, padding=2, bias=False)\n",
       "      (bn2): InnerBatchNorm([8-Rotations: 16 representations], eps=1e-05, momentum=0.1, affine=True, track_running_stats=True)\n",
       "      (relu2): ReLU(inplace=True, type=[8-Rotations: 16 representations])\n",
       "      (downsample): SequentialModule(\n",
       "        (0): R2Conv([8-Rotations: 8 representations], [8-Rotations: 16 representations], kernel_size=1, stride=2, bias=False)\n",
       "        (1): InnerBatchNorm([8-Rotations: 16 representations], eps=1e-05, momentum=0.1, affine=True, track_running_stats=True)\n",
       "      )\n",
       "    )\n",
       "    (1): E2BasicBlock(\n",
       "      (conv1): R2Conv([8-Rotations: 16 representations], [8-Rotations: 16 representations], kernel_size=5, stride=1, padding=2, bias=False)\n",
       "      (bn1): InnerBatchNorm([8-Rotations: 16 representations], eps=1e-05, momentum=0.1, affine=True, track_running_stats=True)\n",
       "      (relu): ReLU(inplace=True, type=[8-Rotations: 16 representations])\n",
       "      (conv2): R2Conv([8-Rotations: 16 representations], [8-Rotations: 16 representations], kernel_size=5, stride=1, padding=2, bias=False)\n",
       "      (bn2): InnerBatchNorm([8-Rotations: 16 representations], eps=1e-05, momentum=0.1, affine=True, track_running_stats=True)\n",
       "      (relu2): ReLU(inplace=True, type=[8-Rotations: 16 representations])\n",
       "    )\n",
       "  )\n",
       "  (layer3): SequentialModule(\n",
       "    (0): E2BasicBlock(\n",
       "      (conv1): R2Conv([8-Rotations: 16 representations], [8-Rotations: 32 representations], kernel_size=5, stride=2, padding=2, bias=False)\n",
       "      (bn1): InnerBatchNorm([8-Rotations: 32 representations], eps=1e-05, momentum=0.1, affine=True, track_running_stats=True)\n",
       "      (relu): ReLU(inplace=True, type=[8-Rotations: 32 representations])\n",
       "      (conv2): R2Conv([8-Rotations: 32 representations], [8-Rotations: 32 representations], kernel_size=5, stride=1, padding=2, bias=False)\n",
       "      (bn2): InnerBatchNorm([8-Rotations: 32 representations], eps=1e-05, momentum=0.1, affine=True, track_running_stats=True)\n",
       "      (relu2): ReLU(inplace=True, type=[8-Rotations: 32 representations])\n",
       "      (downsample): SequentialModule(\n",
       "        (0): R2Conv([8-Rotations: 16 representations], [8-Rotations: 32 representations], kernel_size=1, stride=2, bias=False)\n",
       "        (1): InnerBatchNorm([8-Rotations: 32 representations], eps=1e-05, momentum=0.1, affine=True, track_running_stats=True)\n",
       "      )\n",
       "    )\n",
       "    (1): E2BasicBlock(\n",
       "      (conv1): R2Conv([8-Rotations: 32 representations], [8-Rotations: 32 representations], kernel_size=5, stride=1, padding=2, bias=False)\n",
       "      (bn1): InnerBatchNorm([8-Rotations: 32 representations], eps=1e-05, momentum=0.1, affine=True, track_running_stats=True)\n",
       "      (relu): ReLU(inplace=True, type=[8-Rotations: 32 representations])\n",
       "      (conv2): R2Conv([8-Rotations: 32 representations], [8-Rotations: 32 representations], kernel_size=5, stride=1, padding=2, bias=False)\n",
       "      (bn2): InnerBatchNorm([8-Rotations: 32 representations], eps=1e-05, momentum=0.1, affine=True, track_running_stats=True)\n",
       "      (relu2): ReLU(inplace=True, type=[8-Rotations: 32 representations])\n",
       "    )\n",
       "  )\n",
       "  (layer4): SequentialModule(\n",
       "    (0): E2BasicBlock(\n",
       "      (conv1): R2Conv([8-Rotations: 32 representations], [8-Rotations: 64 representations], kernel_size=5, stride=2, padding=2, bias=False)\n",
       "      (bn1): InnerBatchNorm([8-Rotations: 64 representations], eps=1e-05, momentum=0.1, affine=True, track_running_stats=True)\n",
       "      (relu): ReLU(inplace=True, type=[8-Rotations: 64 representations])\n",
       "      (conv2): R2Conv([8-Rotations: 64 representations], [8-Rotations: 64 representations], kernel_size=5, stride=1, padding=2, bias=False)\n",
       "      (bn2): InnerBatchNorm([8-Rotations: 64 representations], eps=1e-05, momentum=0.1, affine=True, track_running_stats=True)\n",
       "      (relu2): ReLU(inplace=True, type=[8-Rotations: 64 representations])\n",
       "      (downsample): SequentialModule(\n",
       "        (0): R2Conv([8-Rotations: 32 representations], [8-Rotations: 64 representations], kernel_size=1, stride=2, bias=False)\n",
       "        (1): InnerBatchNorm([8-Rotations: 64 representations], eps=1e-05, momentum=0.1, affine=True, track_running_stats=True)\n",
       "      )\n",
       "    )\n",
       "    (1): E2BasicBlock(\n",
       "      (conv1): R2Conv([8-Rotations: 64 representations], [8-Rotations: 64 representations], kernel_size=5, stride=1, padding=2, bias=False)\n",
       "      (bn1): InnerBatchNorm([8-Rotations: 64 representations], eps=1e-05, momentum=0.1, affine=True, track_running_stats=True)\n",
       "      (relu): ReLU(inplace=True, type=[8-Rotations: 64 representations])\n",
       "      (conv2): R2Conv([8-Rotations: 64 representations], [8-Rotations: 64 representations], kernel_size=5, stride=1, padding=2, bias=False)\n",
       "      (bn2): InnerBatchNorm([8-Rotations: 64 representations], eps=1e-05, momentum=0.1, affine=True, track_running_stats=True)\n",
       "      (relu2): ReLU(inplace=True, type=[8-Rotations: 64 representations])\n",
       "    )\n",
       "  )\n",
       "  (mp): GroupPooling([8-Rotations: 64 representations])\n",
       "  (fc): Linear(in_features=64, out_features=2, bias=True)\n",
       ")"
      ]
     },
     "execution_count": 11,
     "metadata": {},
     "output_type": "execute_result"
    }
   ],
   "source": [
    "model.train()"
   ]
  },
  {
   "cell_type": "code",
   "execution_count": 12,
   "metadata": {
    "ExecuteTime": {
     "end_time": "2022-05-05T14:18:20.076125Z",
     "start_time": "2022-05-05T14:18:19.906052Z"
    },
    "scrolled": true
   },
   "outputs": [
    {
     "data": {
      "text/plain": [
       "E2ResNet(\n",
       "  (conv1): R2Conv([8-Rotations: 3 representations], [8-Rotations: 8 representations], kernel_size=5, stride=1, padding=2, bias=False)\n",
       "  (bn1): InnerBatchNorm([8-Rotations: 8 representations], eps=1e-05, momentum=0.1, affine=True, track_running_stats=True)\n",
       "  (relu): ReLU(inplace=True, type=[8-Rotations: 8 representations])\n",
       "  (maxpool): PointwiseMaxPool()\n",
       "  (layer1): SequentialModule(\n",
       "    (0): E2BasicBlock(\n",
       "      (conv1): R2Conv([8-Rotations: 8 representations], [8-Rotations: 8 representations], kernel_size=5, stride=1, padding=2, bias=False)\n",
       "      (bn1): InnerBatchNorm([8-Rotations: 8 representations], eps=1e-05, momentum=0.1, affine=True, track_running_stats=True)\n",
       "      (relu): ReLU(inplace=True, type=[8-Rotations: 8 representations])\n",
       "      (conv2): R2Conv([8-Rotations: 8 representations], [8-Rotations: 8 representations], kernel_size=5, stride=1, padding=2, bias=False)\n",
       "      (bn2): InnerBatchNorm([8-Rotations: 8 representations], eps=1e-05, momentum=0.1, affine=True, track_running_stats=True)\n",
       "      (relu2): ReLU(inplace=True, type=[8-Rotations: 8 representations])\n",
       "    )\n",
       "    (1): E2BasicBlock(\n",
       "      (conv1): R2Conv([8-Rotations: 8 representations], [8-Rotations: 8 representations], kernel_size=5, stride=1, padding=2, bias=False)\n",
       "      (bn1): InnerBatchNorm([8-Rotations: 8 representations], eps=1e-05, momentum=0.1, affine=True, track_running_stats=True)\n",
       "      (relu): ReLU(inplace=True, type=[8-Rotations: 8 representations])\n",
       "      (conv2): R2Conv([8-Rotations: 8 representations], [8-Rotations: 8 representations], kernel_size=5, stride=1, padding=2, bias=False)\n",
       "      (bn2): InnerBatchNorm([8-Rotations: 8 representations], eps=1e-05, momentum=0.1, affine=True, track_running_stats=True)\n",
       "      (relu2): ReLU(inplace=True, type=[8-Rotations: 8 representations])\n",
       "    )\n",
       "  )\n",
       "  (layer2): SequentialModule(\n",
       "    (0): E2BasicBlock(\n",
       "      (conv1): R2Conv([8-Rotations: 8 representations], [8-Rotations: 16 representations], kernel_size=5, stride=2, padding=2, bias=False)\n",
       "      (bn1): InnerBatchNorm([8-Rotations: 16 representations], eps=1e-05, momentum=0.1, affine=True, track_running_stats=True)\n",
       "      (relu): ReLU(inplace=True, type=[8-Rotations: 16 representations])\n",
       "      (conv2): R2Conv([8-Rotations: 16 representations], [8-Rotations: 16 representations], kernel_size=5, stride=1, padding=2, bias=False)\n",
       "      (bn2): InnerBatchNorm([8-Rotations: 16 representations], eps=1e-05, momentum=0.1, affine=True, track_running_stats=True)\n",
       "      (relu2): ReLU(inplace=True, type=[8-Rotations: 16 representations])\n",
       "      (downsample): SequentialModule(\n",
       "        (0): R2Conv([8-Rotations: 8 representations], [8-Rotations: 16 representations], kernel_size=1, stride=2, bias=False)\n",
       "        (1): InnerBatchNorm([8-Rotations: 16 representations], eps=1e-05, momentum=0.1, affine=True, track_running_stats=True)\n",
       "      )\n",
       "    )\n",
       "    (1): E2BasicBlock(\n",
       "      (conv1): R2Conv([8-Rotations: 16 representations], [8-Rotations: 16 representations], kernel_size=5, stride=1, padding=2, bias=False)\n",
       "      (bn1): InnerBatchNorm([8-Rotations: 16 representations], eps=1e-05, momentum=0.1, affine=True, track_running_stats=True)\n",
       "      (relu): ReLU(inplace=True, type=[8-Rotations: 16 representations])\n",
       "      (conv2): R2Conv([8-Rotations: 16 representations], [8-Rotations: 16 representations], kernel_size=5, stride=1, padding=2, bias=False)\n",
       "      (bn2): InnerBatchNorm([8-Rotations: 16 representations], eps=1e-05, momentum=0.1, affine=True, track_running_stats=True)\n",
       "      (relu2): ReLU(inplace=True, type=[8-Rotations: 16 representations])\n",
       "    )\n",
       "  )\n",
       "  (layer3): SequentialModule(\n",
       "    (0): E2BasicBlock(\n",
       "      (conv1): R2Conv([8-Rotations: 16 representations], [8-Rotations: 32 representations], kernel_size=5, stride=2, padding=2, bias=False)\n",
       "      (bn1): InnerBatchNorm([8-Rotations: 32 representations], eps=1e-05, momentum=0.1, affine=True, track_running_stats=True)\n",
       "      (relu): ReLU(inplace=True, type=[8-Rotations: 32 representations])\n",
       "      (conv2): R2Conv([8-Rotations: 32 representations], [8-Rotations: 32 representations], kernel_size=5, stride=1, padding=2, bias=False)\n",
       "      (bn2): InnerBatchNorm([8-Rotations: 32 representations], eps=1e-05, momentum=0.1, affine=True, track_running_stats=True)\n",
       "      (relu2): ReLU(inplace=True, type=[8-Rotations: 32 representations])\n",
       "      (downsample): SequentialModule(\n",
       "        (0): R2Conv([8-Rotations: 16 representations], [8-Rotations: 32 representations], kernel_size=1, stride=2, bias=False)\n",
       "        (1): InnerBatchNorm([8-Rotations: 32 representations], eps=1e-05, momentum=0.1, affine=True, track_running_stats=True)\n",
       "      )\n",
       "    )\n",
       "    (1): E2BasicBlock(\n",
       "      (conv1): R2Conv([8-Rotations: 32 representations], [8-Rotations: 32 representations], kernel_size=5, stride=1, padding=2, bias=False)\n",
       "      (bn1): InnerBatchNorm([8-Rotations: 32 representations], eps=1e-05, momentum=0.1, affine=True, track_running_stats=True)\n",
       "      (relu): ReLU(inplace=True, type=[8-Rotations: 32 representations])\n",
       "      (conv2): R2Conv([8-Rotations: 32 representations], [8-Rotations: 32 representations], kernel_size=5, stride=1, padding=2, bias=False)\n",
       "      (bn2): InnerBatchNorm([8-Rotations: 32 representations], eps=1e-05, momentum=0.1, affine=True, track_running_stats=True)\n",
       "      (relu2): ReLU(inplace=True, type=[8-Rotations: 32 representations])\n",
       "    )\n",
       "  )\n",
       "  (layer4): SequentialModule(\n",
       "    (0): E2BasicBlock(\n",
       "      (conv1): R2Conv([8-Rotations: 32 representations], [8-Rotations: 64 representations], kernel_size=5, stride=2, padding=2, bias=False)\n",
       "      (bn1): InnerBatchNorm([8-Rotations: 64 representations], eps=1e-05, momentum=0.1, affine=True, track_running_stats=True)\n",
       "      (relu): ReLU(inplace=True, type=[8-Rotations: 64 representations])\n",
       "      (conv2): R2Conv([8-Rotations: 64 representations], [8-Rotations: 64 representations], kernel_size=5, stride=1, padding=2, bias=False)\n",
       "      (bn2): InnerBatchNorm([8-Rotations: 64 representations], eps=1e-05, momentum=0.1, affine=True, track_running_stats=True)\n",
       "      (relu2): ReLU(inplace=True, type=[8-Rotations: 64 representations])\n",
       "      (downsample): SequentialModule(\n",
       "        (0): R2Conv([8-Rotations: 32 representations], [8-Rotations: 64 representations], kernel_size=1, stride=2, bias=False)\n",
       "        (1): InnerBatchNorm([8-Rotations: 64 representations], eps=1e-05, momentum=0.1, affine=True, track_running_stats=True)\n",
       "      )\n",
       "    )\n",
       "    (1): E2BasicBlock(\n",
       "      (conv1): R2Conv([8-Rotations: 64 representations], [8-Rotations: 64 representations], kernel_size=5, stride=1, padding=2, bias=False)\n",
       "      (bn1): InnerBatchNorm([8-Rotations: 64 representations], eps=1e-05, momentum=0.1, affine=True, track_running_stats=True)\n",
       "      (relu): ReLU(inplace=True, type=[8-Rotations: 64 representations])\n",
       "      (conv2): R2Conv([8-Rotations: 64 representations], [8-Rotations: 64 representations], kernel_size=5, stride=1, padding=2, bias=False)\n",
       "      (bn2): InnerBatchNorm([8-Rotations: 64 representations], eps=1e-05, momentum=0.1, affine=True, track_running_stats=True)\n",
       "      (relu2): ReLU(inplace=True, type=[8-Rotations: 64 representations])\n",
       "    )\n",
       "  )\n",
       "  (mp): GroupPooling([8-Rotations: 64 representations])\n",
       "  (fc): Linear(in_features=64, out_features=2, bias=True)\n",
       ")"
      ]
     },
     "execution_count": 12,
     "metadata": {},
     "output_type": "execute_result"
    }
   ],
   "source": [
    "model.train(mode=False)"
   ]
  },
  {
   "cell_type": "code",
   "execution_count": 14,
   "metadata": {
    "ExecuteTime": {
     "end_time": "2022-05-05T14:18:24.515248Z",
     "start_time": "2022-05-05T14:18:24.506020Z"
    }
   },
   "outputs": [],
   "source": [
    "import torch"
   ]
  },
  {
   "cell_type": "code",
   "execution_count": null,
   "metadata": {},
   "outputs": [],
   "source": []
  },
  {
   "cell_type": "code",
   "execution_count": 15,
   "metadata": {
    "ExecuteTime": {
     "end_time": "2022-05-05T14:18:26.186101Z",
     "start_time": "2022-05-05T14:18:25.841627Z"
    },
    "scrolled": true
   },
   "outputs": [],
   "source": [
    "torch.save(model.state_dict(), \"state_dict.pt\")"
   ]
  },
  {
   "cell_type": "code",
   "execution_count": 10,
   "metadata": {
    "ExecuteTime": {
     "end_time": "2022-05-08T12:40:58.276617Z",
     "start_time": "2022-05-08T12:40:29.620087Z"
    }
   },
   "outputs": [
    {
     "name": "stdout",
     "output_type": "stream",
     "text": [
      "64\n"
     ]
    },
    {
     "name": "stderr",
     "output_type": "stream",
     "text": [
      "C:\\Users\\Admin\\anaconda3\\envs\\thesis\\lib\\site-packages\\e2cnn\\nn\\modules\\r2_conv\\basisexpansion_singleblock.py:80: UserWarning: indexing with dtype torch.uint8 is now deprecated, please use a dtype torch.bool instead. (Triggered internally at  ..\\aten\\src\\ATen/native/IndexingUtils.h:30.)\n",
      "  full_mask[mask] = norms.to(torch.uint8)\n"
     ]
    },
    {
     "name": "stdout",
     "output_type": "stream",
     "text": [
      "Total number of learnable parameters: 3227434\n"
     ]
    }
   ],
   "source": [
    "# model = get_model(\"e2_resnet18\", 2, None)\n",
    "# resnet18\n",
    "model = E2ResNet(num_classes=2,\n",
    "                 block=E2BasicBlock,\n",
    "                 layers=[2, 2, 2, 2],\n",
    "                 fixparams=False,\n",
    "                 f=False, # not equivariant to flips\n",
    "                 r=-1,  # no layer restriction\n",
    "                 conv2triv=False)"
   ]
  },
  {
   "cell_type": "code",
   "execution_count": null,
   "metadata": {},
   "outputs": [],
   "source": [
    "model"
   ]
  },
  {
   "cell_type": "code",
   "execution_count": 17,
   "metadata": {
    "ExecuteTime": {
     "end_time": "2022-05-05T14:18:54.606805Z",
     "start_time": "2022-05-05T14:18:54.483808Z"
    }
   },
   "outputs": [
    {
     "data": {
      "text/plain": [
       "<All keys matched successfully>"
      ]
     },
     "execution_count": 17,
     "metadata": {},
     "output_type": "execute_result"
    }
   ],
   "source": [
    "state_dict = torch.load(\"state_dict.pt\")\n",
    "model.load_state_dict(state_dict)"
   ]
  },
  {
   "cell_type": "code",
   "execution_count": 11,
   "metadata": {
    "ExecuteTime": {
     "end_time": "2022-05-05T10:05:30.469777Z",
     "start_time": "2022-05-05T10:05:21.761114Z"
    },
    "scrolled": true
   },
   "outputs": [
    {
     "data": {
      "text/plain": [
       "tensor([[-0.1294,  1.2458],\n",
       "        [-0.4267,  1.1801],\n",
       "        [-0.2709,  1.1974],\n",
       "        [-0.3060,  1.3583],\n",
       "        [-0.3648,  1.3482],\n",
       "        [-0.3429,  1.3519],\n",
       "        [-0.0967,  1.3077],\n",
       "        [-0.4163,  1.3162],\n",
       "        [-0.2425,  1.4301],\n",
       "        [-0.2915,  1.5039],\n",
       "        [-0.2738,  1.4299],\n",
       "        [-0.2186,  1.4551],\n",
       "        [-0.2908,  1.2750],\n",
       "        [-0.4221,  1.3930],\n",
       "        [-0.3416,  1.3873],\n",
       "        [-0.4639,  1.1908],\n",
       "        [-0.4003,  1.2917],\n",
       "        [-0.3783,  1.3134],\n",
       "        [-0.3440,  1.7089],\n",
       "        [-0.2989,  1.4053],\n",
       "        [-0.2171,  1.3647],\n",
       "        [-0.0921,  1.2494],\n",
       "        [-0.4510,  1.1705],\n",
       "        [-0.5722,  1.2840],\n",
       "        [-0.2312,  1.2499],\n",
       "        [-0.3320,  1.2251],\n",
       "        [-0.3445,  1.3204],\n",
       "        [-0.4972,  1.2204],\n",
       "        [-0.3181,  1.4717],\n",
       "        [-0.4735,  1.1320],\n",
       "        [-0.1060,  1.2530],\n",
       "        [-0.3011,  1.2522]], grad_fn=<AddmmBackward0>)"
      ]
     },
     "execution_count": 11,
     "metadata": {},
     "output_type": "execute_result"
    }
   ],
   "source": [
    "import torch\n",
    "x = torch.randn(32, 3, 96, 96)\n",
    "model(x)"
   ]
  },
  {
   "cell_type": "code",
   "execution_count": 7,
   "metadata": {
    "ExecuteTime": {
     "end_time": "2022-05-05T09:45:06.451103Z",
     "start_time": "2022-05-05T09:45:06.122032Z"
    }
   },
   "outputs": [
    {
     "name": "stdout",
     "output_type": "stream",
     "text": [
      "----------------------------------------------------------------\n",
      "        Layer (type)               Output Shape         Param #\n",
      "================================================================\n",
      "SingleBlockBasisExpansion-1             [-1, 8, 1, 25]               0\n",
      "BlocksBasisExpansion-2                [-1, 3, 25]               0\n",
      "            R2Conv-3           [-1, 64, 96, 96]               0\n",
      "       BatchNorm3d-4         [-1, 8, 8, 96, 96]              16\n",
      "    InnerBatchNorm-5           [-1, 64, 96, 96]               0\n",
      "              ReLU-6           [-1, 64, 96, 96]               0\n",
      "  PointwiseMaxPool-7           [-1, 64, 48, 48]               0\n",
      "SingleBlockBasisExpansion-8             [-1, 8, 8, 25]               0\n",
      "SingleBlockBasisExpansion-9             [-1, 8, 8, 25]               0\n",
      "SingleBlockBasisExpansion-10             [-1, 8, 8, 25]               0\n",
      "SingleBlockBasisExpansion-11             [-1, 8, 8, 25]               0\n",
      "SingleBlockBasisExpansion-12             [-1, 8, 8, 25]               0\n",
      "SingleBlockBasisExpansion-13             [-1, 8, 8, 25]               0\n",
      "SingleBlockBasisExpansion-14             [-1, 8, 8, 25]               0\n",
      "SingleBlockBasisExpansion-15             [-1, 8, 8, 25]               0\n",
      "SingleBlockBasisExpansion-16             [-1, 8, 8, 25]               0\n",
      "SingleBlockBasisExpansion-17             [-1, 8, 8, 25]               0\n",
      "SingleBlockBasisExpansion-18             [-1, 8, 8, 25]               0\n",
      "SingleBlockBasisExpansion-19             [-1, 8, 8, 25]               0\n",
      "SingleBlockBasisExpansion-20             [-1, 8, 8, 25]               0\n",
      "SingleBlockBasisExpansion-21             [-1, 8, 8, 25]               0\n",
      "SingleBlockBasisExpansion-22             [-1, 8, 8, 25]               0\n",
      "BlocksBasisExpansion-23               [-1, 64, 25]               0\n",
      "           R2Conv-24           [-1, 64, 48, 48]               0\n",
      "      BatchNorm3d-25         [-1, 8, 8, 48, 48]              16\n",
      "   InnerBatchNorm-26           [-1, 64, 48, 48]               0\n",
      "             ReLU-27           [-1, 64, 48, 48]               0\n",
      "SingleBlockBasisExpansion-28             [-1, 8, 8, 25]               0\n",
      "SingleBlockBasisExpansion-29             [-1, 8, 8, 25]               0\n",
      "SingleBlockBasisExpansion-30             [-1, 8, 8, 25]               0\n",
      "SingleBlockBasisExpansion-31             [-1, 8, 8, 25]               0\n",
      "SingleBlockBasisExpansion-32             [-1, 8, 8, 25]               0\n",
      "SingleBlockBasisExpansion-33             [-1, 8, 8, 25]               0\n",
      "SingleBlockBasisExpansion-34             [-1, 8, 8, 25]               0\n",
      "SingleBlockBasisExpansion-35             [-1, 8, 8, 25]               0\n",
      "SingleBlockBasisExpansion-36             [-1, 8, 8, 25]               0\n",
      "SingleBlockBasisExpansion-37             [-1, 8, 8, 25]               0\n",
      "SingleBlockBasisExpansion-38             [-1, 8, 8, 25]               0\n",
      "SingleBlockBasisExpansion-39             [-1, 8, 8, 25]               0\n",
      "SingleBlockBasisExpansion-40             [-1, 8, 8, 25]               0\n",
      "SingleBlockBasisExpansion-41             [-1, 8, 8, 25]               0\n",
      "SingleBlockBasisExpansion-42             [-1, 8, 8, 25]               0\n",
      "BlocksBasisExpansion-43               [-1, 64, 25]               0\n",
      "           R2Conv-44           [-1, 64, 48, 48]               0\n",
      "      BatchNorm3d-45         [-1, 8, 8, 48, 48]              16\n",
      "   InnerBatchNorm-46           [-1, 64, 48, 48]               0\n",
      "             ReLU-47           [-1, 64, 48, 48]               0\n",
      "     E2BasicBlock-48           [-1, 64, 48, 48]               0\n",
      "SingleBlockBasisExpansion-49             [-1, 8, 8, 25]               0\n",
      "SingleBlockBasisExpansion-50             [-1, 8, 8, 25]               0\n",
      "SingleBlockBasisExpansion-51             [-1, 8, 8, 25]               0\n",
      "SingleBlockBasisExpansion-52             [-1, 8, 8, 25]               0\n",
      "SingleBlockBasisExpansion-53             [-1, 8, 8, 25]               0\n",
      "SingleBlockBasisExpansion-54             [-1, 8, 8, 25]               0\n",
      "SingleBlockBasisExpansion-55             [-1, 8, 8, 25]               0\n",
      "SingleBlockBasisExpansion-56             [-1, 8, 8, 25]               0\n",
      "SingleBlockBasisExpansion-57             [-1, 8, 8, 25]               0\n",
      "SingleBlockBasisExpansion-58             [-1, 8, 8, 25]               0\n",
      "SingleBlockBasisExpansion-59             [-1, 8, 8, 25]               0\n",
      "SingleBlockBasisExpansion-60             [-1, 8, 8, 25]               0\n",
      "SingleBlockBasisExpansion-61             [-1, 8, 8, 25]               0\n",
      "SingleBlockBasisExpansion-62             [-1, 8, 8, 25]               0\n",
      "SingleBlockBasisExpansion-63             [-1, 8, 8, 25]               0\n",
      "BlocksBasisExpansion-64               [-1, 64, 25]               0\n",
      "           R2Conv-65           [-1, 64, 48, 48]               0\n",
      "      BatchNorm3d-66         [-1, 8, 8, 48, 48]              16\n",
      "   InnerBatchNorm-67           [-1, 64, 48, 48]               0\n",
      "             ReLU-68           [-1, 64, 48, 48]               0\n",
      "SingleBlockBasisExpansion-69             [-1, 8, 8, 25]               0\n",
      "SingleBlockBasisExpansion-70             [-1, 8, 8, 25]               0\n",
      "SingleBlockBasisExpansion-71             [-1, 8, 8, 25]               0\n",
      "SingleBlockBasisExpansion-72             [-1, 8, 8, 25]               0\n",
      "SingleBlockBasisExpansion-73             [-1, 8, 8, 25]               0\n",
      "SingleBlockBasisExpansion-74             [-1, 8, 8, 25]               0\n",
      "SingleBlockBasisExpansion-75             [-1, 8, 8, 25]               0\n",
      "SingleBlockBasisExpansion-76             [-1, 8, 8, 25]               0\n",
      "SingleBlockBasisExpansion-77             [-1, 8, 8, 25]               0\n",
      "SingleBlockBasisExpansion-78             [-1, 8, 8, 25]               0\n",
      "SingleBlockBasisExpansion-79             [-1, 8, 8, 25]               0\n",
      "SingleBlockBasisExpansion-80             [-1, 8, 8, 25]               0\n",
      "SingleBlockBasisExpansion-81             [-1, 8, 8, 25]               0\n",
      "SingleBlockBasisExpansion-82             [-1, 8, 8, 25]               0\n",
      "SingleBlockBasisExpansion-83             [-1, 8, 8, 25]               0\n",
      "BlocksBasisExpansion-84               [-1, 64, 25]               0\n",
      "           R2Conv-85           [-1, 64, 48, 48]               0\n",
      "      BatchNorm3d-86         [-1, 8, 8, 48, 48]              16\n",
      "   InnerBatchNorm-87           [-1, 64, 48, 48]               0\n",
      "             ReLU-88           [-1, 64, 48, 48]               0\n",
      "     E2BasicBlock-89           [-1, 64, 48, 48]               0\n",
      " SequentialModule-90           [-1, 64, 48, 48]               0\n",
      "SingleBlockBasisExpansion-91             [-1, 8, 8, 25]               0\n",
      "SingleBlockBasisExpansion-92             [-1, 8, 8, 25]               0\n",
      "SingleBlockBasisExpansion-93             [-1, 8, 8, 25]               0\n",
      "SingleBlockBasisExpansion-94             [-1, 8, 8, 25]               0\n",
      "SingleBlockBasisExpansion-95             [-1, 8, 8, 25]               0\n",
      "SingleBlockBasisExpansion-96             [-1, 8, 8, 25]               0\n",
      "SingleBlockBasisExpansion-97             [-1, 8, 8, 25]               0\n",
      "SingleBlockBasisExpansion-98             [-1, 8, 8, 25]               0\n",
      "SingleBlockBasisExpansion-99             [-1, 8, 8, 25]               0\n",
      "SingleBlockBasisExpansion-100             [-1, 8, 8, 25]               0\n",
      "SingleBlockBasisExpansion-101             [-1, 8, 8, 25]               0\n",
      "SingleBlockBasisExpansion-102             [-1, 8, 8, 25]               0\n",
      "SingleBlockBasisExpansion-103             [-1, 8, 8, 25]               0\n",
      "SingleBlockBasisExpansion-104             [-1, 8, 8, 25]               0\n",
      "SingleBlockBasisExpansion-105             [-1, 8, 8, 25]               0\n",
      "BlocksBasisExpansion-106               [-1, 64, 25]               0\n",
      "          R2Conv-107          [-1, 128, 24, 24]               0\n",
      "     BatchNorm3d-108        [-1, 16, 8, 24, 24]              32\n",
      "  InnerBatchNorm-109          [-1, 128, 24, 24]               0\n",
      "            ReLU-110          [-1, 128, 24, 24]               0\n",
      "SingleBlockBasisExpansion-111             [-1, 8, 8, 25]               0\n",
      "SingleBlockBasisExpansion-112             [-1, 8, 8, 25]               0\n",
      "SingleBlockBasisExpansion-113             [-1, 8, 8, 25]               0\n",
      "SingleBlockBasisExpansion-114             [-1, 8, 8, 25]               0\n",
      "SingleBlockBasisExpansion-115             [-1, 8, 8, 25]               0\n",
      "SingleBlockBasisExpansion-116             [-1, 8, 8, 25]               0\n",
      "SingleBlockBasisExpansion-117             [-1, 8, 8, 25]               0\n",
      "SingleBlockBasisExpansion-118             [-1, 8, 8, 25]               0\n",
      "SingleBlockBasisExpansion-119             [-1, 8, 8, 25]               0\n",
      "SingleBlockBasisExpansion-120             [-1, 8, 8, 25]               0\n",
      "SingleBlockBasisExpansion-121             [-1, 8, 8, 25]               0\n",
      "SingleBlockBasisExpansion-122             [-1, 8, 8, 25]               0\n",
      "SingleBlockBasisExpansion-123             [-1, 8, 8, 25]               0\n",
      "SingleBlockBasisExpansion-124             [-1, 8, 8, 25]               0\n",
      "SingleBlockBasisExpansion-125             [-1, 8, 8, 25]               0\n",
      "BlocksBasisExpansion-126              [-1, 128, 25]               0\n",
      "          R2Conv-127          [-1, 128, 24, 24]               0\n",
      "     BatchNorm3d-128        [-1, 16, 8, 24, 24]              32\n",
      "  InnerBatchNorm-129          [-1, 128, 24, 24]               0\n",
      "SingleBlockBasisExpansion-130              [-1, 8, 8, 1]               0\n",
      "SingleBlockBasisExpansion-131              [-1, 8, 8, 1]               0\n",
      "SingleBlockBasisExpansion-132              [-1, 8, 8, 1]               0\n",
      "BlocksBasisExpansion-133                [-1, 64, 1]               0\n",
      "          R2Conv-134          [-1, 128, 24, 24]               0\n",
      "     BatchNorm3d-135        [-1, 16, 8, 24, 24]              32\n",
      "  InnerBatchNorm-136          [-1, 128, 24, 24]               0\n",
      "SequentialModule-137          [-1, 128, 24, 24]               0\n",
      "            ReLU-138          [-1, 128, 24, 24]               0\n",
      "    E2BasicBlock-139          [-1, 128, 24, 24]               0\n",
      "SingleBlockBasisExpansion-140             [-1, 8, 8, 25]               0\n",
      "SingleBlockBasisExpansion-141             [-1, 8, 8, 25]               0\n",
      "SingleBlockBasisExpansion-142             [-1, 8, 8, 25]               0\n",
      "SingleBlockBasisExpansion-143             [-1, 8, 8, 25]               0\n",
      "SingleBlockBasisExpansion-144             [-1, 8, 8, 25]               0\n",
      "SingleBlockBasisExpansion-145             [-1, 8, 8, 25]               0\n",
      "SingleBlockBasisExpansion-146             [-1, 8, 8, 25]               0\n",
      "SingleBlockBasisExpansion-147             [-1, 8, 8, 25]               0\n",
      "SingleBlockBasisExpansion-148             [-1, 8, 8, 25]               0\n",
      "SingleBlockBasisExpansion-149             [-1, 8, 8, 25]               0\n",
      "SingleBlockBasisExpansion-150             [-1, 8, 8, 25]               0\n",
      "SingleBlockBasisExpansion-151             [-1, 8, 8, 25]               0\n",
      "SingleBlockBasisExpansion-152             [-1, 8, 8, 25]               0\n",
      "SingleBlockBasisExpansion-153             [-1, 8, 8, 25]               0\n",
      "SingleBlockBasisExpansion-154             [-1, 8, 8, 25]               0\n",
      "BlocksBasisExpansion-155              [-1, 128, 25]               0\n",
      "          R2Conv-156          [-1, 128, 24, 24]               0\n",
      "     BatchNorm3d-157        [-1, 16, 8, 24, 24]              32\n",
      "  InnerBatchNorm-158          [-1, 128, 24, 24]               0\n",
      "            ReLU-159          [-1, 128, 24, 24]               0\n",
      "SingleBlockBasisExpansion-160             [-1, 8, 8, 25]               0\n",
      "SingleBlockBasisExpansion-161             [-1, 8, 8, 25]               0\n",
      "SingleBlockBasisExpansion-162             [-1, 8, 8, 25]               0\n",
      "SingleBlockBasisExpansion-163             [-1, 8, 8, 25]               0\n",
      "SingleBlockBasisExpansion-164             [-1, 8, 8, 25]               0\n",
      "SingleBlockBasisExpansion-165             [-1, 8, 8, 25]               0\n",
      "SingleBlockBasisExpansion-166             [-1, 8, 8, 25]               0\n",
      "SingleBlockBasisExpansion-167             [-1, 8, 8, 25]               0\n",
      "SingleBlockBasisExpansion-168             [-1, 8, 8, 25]               0\n",
      "SingleBlockBasisExpansion-169             [-1, 8, 8, 25]               0\n",
      "SingleBlockBasisExpansion-170             [-1, 8, 8, 25]               0\n",
      "SingleBlockBasisExpansion-171             [-1, 8, 8, 25]               0\n",
      "SingleBlockBasisExpansion-172             [-1, 8, 8, 25]               0\n",
      "SingleBlockBasisExpansion-173             [-1, 8, 8, 25]               0\n",
      "SingleBlockBasisExpansion-174             [-1, 8, 8, 25]               0\n",
      "BlocksBasisExpansion-175              [-1, 128, 25]               0\n",
      "          R2Conv-176          [-1, 128, 24, 24]               0\n",
      "     BatchNorm3d-177        [-1, 16, 8, 24, 24]              32\n",
      "  InnerBatchNorm-178          [-1, 128, 24, 24]               0\n",
      "            ReLU-179          [-1, 128, 24, 24]               0\n",
      "    E2BasicBlock-180          [-1, 128, 24, 24]               0\n",
      "SequentialModule-181          [-1, 128, 24, 24]               0\n",
      "SingleBlockBasisExpansion-182             [-1, 8, 8, 25]               0\n",
      "SingleBlockBasisExpansion-183             [-1, 8, 8, 25]               0\n",
      "SingleBlockBasisExpansion-184             [-1, 8, 8, 25]               0\n",
      "SingleBlockBasisExpansion-185             [-1, 8, 8, 25]               0\n",
      "SingleBlockBasisExpansion-186             [-1, 8, 8, 25]               0\n",
      "SingleBlockBasisExpansion-187             [-1, 8, 8, 25]               0\n",
      "SingleBlockBasisExpansion-188             [-1, 8, 8, 25]               0\n",
      "SingleBlockBasisExpansion-189             [-1, 8, 8, 25]               0\n",
      "SingleBlockBasisExpansion-190             [-1, 8, 8, 25]               0\n",
      "SingleBlockBasisExpansion-191             [-1, 8, 8, 25]               0\n",
      "SingleBlockBasisExpansion-192             [-1, 8, 8, 25]               0\n",
      "SingleBlockBasisExpansion-193             [-1, 8, 8, 25]               0\n",
      "SingleBlockBasisExpansion-194             [-1, 8, 8, 25]               0\n",
      "SingleBlockBasisExpansion-195             [-1, 8, 8, 25]               0\n",
      "SingleBlockBasisExpansion-196             [-1, 8, 8, 25]               0\n",
      "BlocksBasisExpansion-197              [-1, 128, 25]               0\n",
      "          R2Conv-198          [-1, 256, 12, 12]               0\n",
      "     BatchNorm3d-199        [-1, 32, 8, 12, 12]              64\n",
      "  InnerBatchNorm-200          [-1, 256, 12, 12]               0\n",
      "            ReLU-201          [-1, 256, 12, 12]               0\n",
      "SingleBlockBasisExpansion-202             [-1, 8, 8, 25]               0\n",
      "SingleBlockBasisExpansion-203             [-1, 8, 8, 25]               0\n",
      "SingleBlockBasisExpansion-204             [-1, 8, 8, 25]               0\n",
      "SingleBlockBasisExpansion-205             [-1, 8, 8, 25]               0\n",
      "SingleBlockBasisExpansion-206             [-1, 8, 8, 25]               0\n",
      "SingleBlockBasisExpansion-207             [-1, 8, 8, 25]               0\n",
      "SingleBlockBasisExpansion-208             [-1, 8, 8, 25]               0\n",
      "SingleBlockBasisExpansion-209             [-1, 8, 8, 25]               0\n",
      "SingleBlockBasisExpansion-210             [-1, 8, 8, 25]               0\n",
      "SingleBlockBasisExpansion-211             [-1, 8, 8, 25]               0\n",
      "SingleBlockBasisExpansion-212             [-1, 8, 8, 25]               0\n",
      "SingleBlockBasisExpansion-213             [-1, 8, 8, 25]               0\n",
      "SingleBlockBasisExpansion-214             [-1, 8, 8, 25]               0\n",
      "SingleBlockBasisExpansion-215             [-1, 8, 8, 25]               0\n",
      "SingleBlockBasisExpansion-216             [-1, 8, 8, 25]               0\n",
      "BlocksBasisExpansion-217              [-1, 256, 25]               0\n",
      "          R2Conv-218          [-1, 256, 12, 12]               0\n",
      "     BatchNorm3d-219        [-1, 32, 8, 12, 12]              64\n",
      "  InnerBatchNorm-220          [-1, 256, 12, 12]               0\n",
      "SingleBlockBasisExpansion-221              [-1, 8, 8, 1]               0\n",
      "SingleBlockBasisExpansion-222              [-1, 8, 8, 1]               0\n",
      "SingleBlockBasisExpansion-223              [-1, 8, 8, 1]               0\n",
      "BlocksBasisExpansion-224               [-1, 128, 1]               0\n",
      "          R2Conv-225          [-1, 256, 12, 12]               0\n",
      "     BatchNorm3d-226        [-1, 32, 8, 12, 12]              64\n",
      "  InnerBatchNorm-227          [-1, 256, 12, 12]               0\n",
      "SequentialModule-228          [-1, 256, 12, 12]               0\n",
      "            ReLU-229          [-1, 256, 12, 12]               0\n",
      "    E2BasicBlock-230          [-1, 256, 12, 12]               0\n",
      "SingleBlockBasisExpansion-231             [-1, 8, 8, 25]               0\n",
      "SingleBlockBasisExpansion-232             [-1, 8, 8, 25]               0\n",
      "SingleBlockBasisExpansion-233             [-1, 8, 8, 25]               0\n",
      "SingleBlockBasisExpansion-234             [-1, 8, 8, 25]               0\n",
      "SingleBlockBasisExpansion-235             [-1, 8, 8, 25]               0\n",
      "SingleBlockBasisExpansion-236             [-1, 8, 8, 25]               0\n",
      "SingleBlockBasisExpansion-237             [-1, 8, 8, 25]               0\n",
      "SingleBlockBasisExpansion-238             [-1, 8, 8, 25]               0\n",
      "SingleBlockBasisExpansion-239             [-1, 8, 8, 25]               0\n",
      "SingleBlockBasisExpansion-240             [-1, 8, 8, 25]               0\n",
      "SingleBlockBasisExpansion-241             [-1, 8, 8, 25]               0\n",
      "SingleBlockBasisExpansion-242             [-1, 8, 8, 25]               0\n",
      "SingleBlockBasisExpansion-243             [-1, 8, 8, 25]               0\n",
      "SingleBlockBasisExpansion-244             [-1, 8, 8, 25]               0\n",
      "SingleBlockBasisExpansion-245             [-1, 8, 8, 25]               0\n",
      "BlocksBasisExpansion-246              [-1, 256, 25]               0\n",
      "          R2Conv-247          [-1, 256, 12, 12]               0\n",
      "     BatchNorm3d-248        [-1, 32, 8, 12, 12]              64\n",
      "  InnerBatchNorm-249          [-1, 256, 12, 12]               0\n",
      "            ReLU-250          [-1, 256, 12, 12]               0\n",
      "SingleBlockBasisExpansion-251             [-1, 8, 8, 25]               0\n",
      "SingleBlockBasisExpansion-252             [-1, 8, 8, 25]               0\n",
      "SingleBlockBasisExpansion-253             [-1, 8, 8, 25]               0\n",
      "SingleBlockBasisExpansion-254             [-1, 8, 8, 25]               0\n",
      "SingleBlockBasisExpansion-255             [-1, 8, 8, 25]               0\n",
      "SingleBlockBasisExpansion-256             [-1, 8, 8, 25]               0\n",
      "SingleBlockBasisExpansion-257             [-1, 8, 8, 25]               0\n",
      "SingleBlockBasisExpansion-258             [-1, 8, 8, 25]               0\n",
      "SingleBlockBasisExpansion-259             [-1, 8, 8, 25]               0\n",
      "SingleBlockBasisExpansion-260             [-1, 8, 8, 25]               0\n",
      "SingleBlockBasisExpansion-261             [-1, 8, 8, 25]               0\n",
      "SingleBlockBasisExpansion-262             [-1, 8, 8, 25]               0\n",
      "SingleBlockBasisExpansion-263             [-1, 8, 8, 25]               0\n",
      "SingleBlockBasisExpansion-264             [-1, 8, 8, 25]               0\n",
      "SingleBlockBasisExpansion-265             [-1, 8, 8, 25]               0\n",
      "BlocksBasisExpansion-266              [-1, 256, 25]               0\n",
      "          R2Conv-267          [-1, 256, 12, 12]               0\n",
      "     BatchNorm3d-268        [-1, 32, 8, 12, 12]              64\n",
      "  InnerBatchNorm-269          [-1, 256, 12, 12]               0\n",
      "            ReLU-270          [-1, 256, 12, 12]               0\n",
      "    E2BasicBlock-271          [-1, 256, 12, 12]               0\n",
      "SequentialModule-272          [-1, 256, 12, 12]               0\n",
      "SingleBlockBasisExpansion-273             [-1, 8, 8, 25]               0\n",
      "SingleBlockBasisExpansion-274             [-1, 8, 8, 25]               0\n",
      "SingleBlockBasisExpansion-275             [-1, 8, 8, 25]               0\n",
      "SingleBlockBasisExpansion-276             [-1, 8, 8, 25]               0\n",
      "SingleBlockBasisExpansion-277             [-1, 8, 8, 25]               0\n",
      "SingleBlockBasisExpansion-278             [-1, 8, 8, 25]               0\n",
      "SingleBlockBasisExpansion-279             [-1, 8, 8, 25]               0\n",
      "SingleBlockBasisExpansion-280             [-1, 8, 8, 25]               0\n",
      "SingleBlockBasisExpansion-281             [-1, 8, 8, 25]               0\n",
      "SingleBlockBasisExpansion-282             [-1, 8, 8, 25]               0\n",
      "SingleBlockBasisExpansion-283             [-1, 8, 8, 25]               0\n",
      "SingleBlockBasisExpansion-284             [-1, 8, 8, 25]               0\n",
      "SingleBlockBasisExpansion-285             [-1, 8, 8, 25]               0\n",
      "SingleBlockBasisExpansion-286             [-1, 8, 8, 25]               0\n",
      "SingleBlockBasisExpansion-287             [-1, 8, 8, 25]               0\n",
      "BlocksBasisExpansion-288              [-1, 256, 25]               0\n",
      "          R2Conv-289            [-1, 512, 6, 6]               0\n",
      "     BatchNorm3d-290          [-1, 64, 8, 6, 6]             128\n",
      "  InnerBatchNorm-291            [-1, 512, 6, 6]               0\n",
      "            ReLU-292            [-1, 512, 6, 6]               0\n",
      "SingleBlockBasisExpansion-293             [-1, 8, 8, 25]               0\n",
      "SingleBlockBasisExpansion-294             [-1, 8, 8, 25]               0\n",
      "SingleBlockBasisExpansion-295             [-1, 8, 8, 25]               0\n",
      "SingleBlockBasisExpansion-296             [-1, 8, 8, 25]               0\n",
      "SingleBlockBasisExpansion-297             [-1, 8, 8, 25]               0\n",
      "SingleBlockBasisExpansion-298             [-1, 8, 8, 25]               0\n",
      "SingleBlockBasisExpansion-299             [-1, 8, 8, 25]               0\n",
      "SingleBlockBasisExpansion-300             [-1, 8, 8, 25]               0\n",
      "SingleBlockBasisExpansion-301             [-1, 8, 8, 25]               0\n",
      "SingleBlockBasisExpansion-302             [-1, 8, 8, 25]               0\n",
      "SingleBlockBasisExpansion-303             [-1, 8, 8, 25]               0\n",
      "SingleBlockBasisExpansion-304             [-1, 8, 8, 25]               0\n",
      "SingleBlockBasisExpansion-305             [-1, 8, 8, 25]               0\n",
      "SingleBlockBasisExpansion-306             [-1, 8, 8, 25]               0\n",
      "SingleBlockBasisExpansion-307             [-1, 8, 8, 25]               0\n",
      "BlocksBasisExpansion-308              [-1, 512, 25]               0\n",
      "          R2Conv-309            [-1, 512, 6, 6]               0\n",
      "     BatchNorm3d-310          [-1, 64, 8, 6, 6]             128\n",
      "  InnerBatchNorm-311            [-1, 512, 6, 6]               0\n",
      "SingleBlockBasisExpansion-312              [-1, 8, 8, 1]               0\n",
      "SingleBlockBasisExpansion-313              [-1, 8, 8, 1]               0\n",
      "SingleBlockBasisExpansion-314              [-1, 8, 8, 1]               0\n",
      "BlocksBasisExpansion-315               [-1, 256, 1]               0\n",
      "          R2Conv-316            [-1, 512, 6, 6]               0\n",
      "     BatchNorm3d-317          [-1, 64, 8, 6, 6]             128\n",
      "  InnerBatchNorm-318            [-1, 512, 6, 6]               0\n",
      "SequentialModule-319            [-1, 512, 6, 6]               0\n",
      "            ReLU-320            [-1, 512, 6, 6]               0\n",
      "    E2BasicBlock-321            [-1, 512, 6, 6]               0\n",
      "SingleBlockBasisExpansion-322             [-1, 8, 8, 25]               0\n",
      "SingleBlockBasisExpansion-323             [-1, 8, 8, 25]               0\n",
      "SingleBlockBasisExpansion-324             [-1, 8, 8, 25]               0\n",
      "SingleBlockBasisExpansion-325             [-1, 8, 8, 25]               0\n",
      "SingleBlockBasisExpansion-326             [-1, 8, 8, 25]               0\n",
      "SingleBlockBasisExpansion-327             [-1, 8, 8, 25]               0\n",
      "SingleBlockBasisExpansion-328             [-1, 8, 8, 25]               0\n",
      "SingleBlockBasisExpansion-329             [-1, 8, 8, 25]               0\n",
      "SingleBlockBasisExpansion-330             [-1, 8, 8, 25]               0\n",
      "SingleBlockBasisExpansion-331             [-1, 8, 8, 25]               0\n",
      "SingleBlockBasisExpansion-332             [-1, 8, 8, 25]               0\n",
      "SingleBlockBasisExpansion-333             [-1, 8, 8, 25]               0\n",
      "SingleBlockBasisExpansion-334             [-1, 8, 8, 25]               0\n",
      "SingleBlockBasisExpansion-335             [-1, 8, 8, 25]               0\n",
      "SingleBlockBasisExpansion-336             [-1, 8, 8, 25]               0\n",
      "BlocksBasisExpansion-337              [-1, 512, 25]               0\n",
      "          R2Conv-338            [-1, 512, 6, 6]               0\n",
      "     BatchNorm3d-339          [-1, 64, 8, 6, 6]             128\n",
      "  InnerBatchNorm-340            [-1, 512, 6, 6]               0\n",
      "            ReLU-341            [-1, 512, 6, 6]               0\n",
      "SingleBlockBasisExpansion-342             [-1, 1, 8, 25]               0\n",
      "BlocksBasisExpansion-343              [-1, 512, 25]               0\n",
      "          R2Conv-344            [-1, 512, 6, 6]               0\n",
      "     BatchNorm3d-345         [-1, 512, 1, 6, 6]           1,024\n",
      "  InnerBatchNorm-346            [-1, 512, 6, 6]               0\n",
      "SingleBlockBasisExpansion-347              [-1, 1, 8, 1]               0\n",
      "BlocksBasisExpansion-348               [-1, 512, 1]               0\n",
      "          R2Conv-349            [-1, 512, 6, 6]               0\n",
      "     BatchNorm3d-350         [-1, 512, 1, 6, 6]           1,024\n",
      "  InnerBatchNorm-351            [-1, 512, 6, 6]               0\n",
      "SequentialModule-352            [-1, 512, 6, 6]               0\n",
      "            ReLU-353            [-1, 512, 6, 6]               0\n",
      "    E2BasicBlock-354            [-1, 512, 6, 6]               0\n",
      "SequentialModule-355            [-1, 512, 6, 6]               0\n",
      "          Linear-356                    [-1, 2]           1,026\n",
      "================================================================\n",
      "Total params: 4,146\n",
      "Trainable params: 4,146\n",
      "Non-trainable params: 0\n",
      "----------------------------------------------------------------\n",
      "Input size (MB): 0.11\n",
      "Forward/backward pass size (MB): 67.11\n",
      "Params size (MB): 0.02\n",
      "Estimated Total Size (MB): 67.23\n",
      "----------------------------------------------------------------\n"
     ]
    }
   ],
   "source": [
    "summary(model, (3, 96, 96), device=\"cpu\")"
   ]
  },
  {
   "cell_type": "markdown",
   "metadata": {},
   "source": [
    "TODO: add number of groups when printing R2Conv"
   ]
  },
  {
   "cell_type": "code",
   "execution_count": 5,
   "metadata": {
    "ExecuteTime": {
     "end_time": "2022-05-05T09:57:41.324886Z",
     "start_time": "2022-05-05T09:57:41.171523Z"
    }
   },
   "outputs": [
    {
     "name": "stdout",
     "output_type": "stream",
     "text": [
      "Total number of learnable parameters: 11177538\n"
     ]
    }
   ],
   "source": [
    "resnet = ResNet(num_classes=2,\n",
    "                 block=BasicBlock,\n",
    "                 layers=[2, 2, 2, 2])"
   ]
  },
  {
   "cell_type": "code",
   "execution_count": null,
   "metadata": {
    "ExecuteTime": {
     "end_time": "2022-05-05T09:57:05.106050Z",
     "start_time": "2022-05-05T09:57:05.106050Z"
    }
   },
   "outputs": [],
   "source": [
    "summary(resnet, (3, 96, 96), device=\"cpu\")"
   ]
  },
  {
   "cell_type": "code",
   "execution_count": 10,
   "metadata": {
    "ExecuteTime": {
     "end_time": "2022-05-05T09:45:06.702599Z",
     "start_time": "2022-05-05T09:45:06.688603Z"
    }
   },
   "outputs": [],
   "source": [
    "# resnet"
   ]
  }
 ],
 "metadata": {
  "kernelspec": {
   "display_name": "Python 3",
   "language": "python",
   "name": "python3"
  },
  "language_info": {
   "codemirror_mode": {
    "name": "ipython",
    "version": 3
   },
   "file_extension": ".py",
   "mimetype": "text/x-python",
   "name": "python",
   "nbconvert_exporter": "python",
   "pygments_lexer": "ipython3",
   "version": "3.8.5"
  }
 },
 "nbformat": 4,
 "nbformat_minor": 5
}
