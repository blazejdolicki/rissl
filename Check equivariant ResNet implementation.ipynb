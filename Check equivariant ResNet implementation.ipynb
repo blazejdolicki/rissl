{
 "cells": [
  {
   "cell_type": "code",
   "execution_count": 1,
   "id": "0c5e2dc1",
   "metadata": {
    "ExecuteTime": {
     "end_time": "2022-05-03T15:36:08.191749Z",
     "start_time": "2022-05-03T15:36:05.907160Z"
    }
   },
   "outputs": [],
   "source": [
    "from models import get_model\n",
    "\n",
    "# to prevent notebook from crashing\n",
    "# source: https://stackoverflow.com/questions/20554074/sklearn-omp-error-15-initializing-libiomp5md-dll-but-found-mk2iomp5md-dll-a\n",
    "import os\n",
    "os.environ[\"KMP_DUPLICATE_LIB_OK\"]=\"TRUE\""
   ]
  },
  {
   "cell_type": "code",
   "execution_count": 2,
   "id": "5e453e47",
   "metadata": {
    "ExecuteTime": {
     "end_time": "2022-05-03T15:37:55.279550Z",
     "start_time": "2022-05-03T15:36:10.015312Z"
    }
   },
   "outputs": [
    {
     "name": "stdout",
     "output_type": "stream",
     "text": [
      "resnet18\n",
      "64\n"
     ]
    },
    {
     "name": "stderr",
     "output_type": "stream",
     "text": [
      "C:\\Users\\Admin\\anaconda3\\envs\\e2cnn\\lib\\site-packages\\e2cnn\\nn\\modules\\r2_conv\\basisexpansion_singleblock.py:80: UserWarning: indexing with dtype torch.uint8 is now deprecated, please use a dtype torch.bool instead. (Triggered internally at  C:\\cb\\pytorch_1000000000000\\work\\aten\\src\\ATen/native/IndexingUtils.h:28.)\n",
      "  full_mask[mask] = norms.to(torch.uint8)\n"
     ]
    }
   ],
   "source": [
    "model = get_model(\"e2_resnet18\", 2, None)"
   ]
  },
  {
   "cell_type": "code",
   "execution_count": null,
   "id": "bf61f488",
   "metadata": {},
   "outputs": [],
   "source": []
  }
 ],
 "metadata": {
  "kernelspec": {
   "display_name": "Python 3 (ipykernel)",
   "language": "python",
   "name": "python3"
  },
  "language_info": {
   "codemirror_mode": {
    "name": "ipython",
    "version": 3
   },
   "file_extension": ".py",
   "mimetype": "text/x-python",
   "name": "python",
   "nbconvert_exporter": "python",
   "pygments_lexer": "ipython3",
   "version": "3.9.7"
  }
 },
 "nbformat": 4,
 "nbformat_minor": 5
}
