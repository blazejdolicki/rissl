{
 "cells": [
  {
   "cell_type": "markdown",
   "id": "4aab85c0",
   "metadata": {},
   "source": [
    "# Mean Rotation Error explained with example\n",
    "In this notebook we compute Mean Rotation Error step by step and show intermediate results in order to verify that the implementation is correct and to improve reader's understanding."
   ]
  },
  {
   "cell_type": "code",
   "execution_count": 74,
   "id": "626795ac",
   "metadata": {
    "ExecuteTime": {
     "end_time": "2022-06-10T11:02:22.408327Z",
     "start_time": "2022-06-10T11:02:22.399329Z"
    }
   },
   "outputs": [],
   "source": [
    "from torchvision import transforms as T\n",
    "from PIL import Image\n",
    "from pathlib import Path\n",
    "import matplotlib.pyplot as plt\n",
    "import numpy as np\n",
    "import os\n",
    "import torch\n",
    "import matplotlib as mpl"
   ]
  },
  {
   "cell_type": "markdown",
   "id": "dbbc93ec",
   "metadata": {},
   "source": [
    "Both here and in `evaluation_mre.py` we use PyTorch's notation when possible:\n",
    "* $B$ denotes batch size\n",
    "* $C$ denotes number of input channels ($C=3$ for RGB)\n",
    "* $H$ and $W$ denote height and width of the image, respectively\n",
    "Furthermore, $N$ denotes number of rotations we use on every image"
   ]
  },
  {
   "cell_type": "code",
   "execution_count": 75,
   "id": "b563779a",
   "metadata": {
    "ExecuteTime": {
     "end_time": "2022-06-10T11:02:22.687987Z",
     "start_time": "2022-06-10T11:02:22.682988Z"
    }
   },
   "outputs": [],
   "source": [
    "N = 4\n",
    "B = 5\n",
    "C = 3 # RGB\n",
    "\n",
    "# dataset specific\n",
    "H = 96\n",
    "W = 96\n",
    "num_classes = 2"
   ]
  },
  {
   "cell_type": "markdown",
   "id": "dbe2cddf",
   "metadata": {},
   "source": [
    "Let's create a dummy dataset that returns an image with all values being the same number. Because of that, the image is not affected by rotations (if the rotations are perfect and don't require interpolation i.e. $N=2$ or $N=4$)."
   ]
  },
  {
   "cell_type": "code",
   "execution_count": 107,
   "id": "71a18407",
   "metadata": {
    "ExecuteTime": {
     "end_time": "2022-06-10T11:20:58.924161Z",
     "start_time": "2022-06-10T11:20:58.909162Z"
    }
   },
   "outputs": [],
   "source": [
    "from torch.utils.data import Dataset, DataLoader\n",
    "import random\n",
    "\n",
    "class DummyDataset(Dataset):\n",
    "    \"\"\"\n",
    "        Dummy dataset for testing an demonstration.\n",
    "        If rotation_invariant=True, it returns an image with all values equal to its index, so the images are not\n",
    "        affected by rotations, and a random label.\n",
    "    \"\"\"\n",
    "    def __init__(self, img_height, img_width, num_channels, num_classes, rotation_invariant=True, size=10):\n",
    "        self.img_height = img_height\n",
    "        self.img_width = img_width\n",
    "        self.num_channels = num_channels\n",
    "        self.num_classes = num_classes\n",
    "        self.rotation_invariant = rotation_invariant\n",
    "        self.size = size\n",
    "    \n",
    "    def __getitem__(self, idx):\n",
    "        if self.rotation_invariant:\n",
    "            img = torch.ones((self.num_channels, self.img_height, self.img_width)) * idx\n",
    "        else:\n",
    "            raise NotImplementedError\n",
    "            \n",
    "        label = random.randint(0, self.num_classes-1)\n",
    "        \n",
    "        return img, label \n",
    "    \n",
    "    def __len__(self):\n",
    "        return self.size"
   ]
  },
  {
   "cell_type": "code",
   "execution_count": 77,
   "id": "1bbdd3a3",
   "metadata": {
    "ExecuteTime": {
     "end_time": "2022-06-10T11:02:23.168483Z",
     "start_time": "2022-06-10T11:02:23.161467Z"
    }
   },
   "outputs": [],
   "source": [
    "dataset = DummyDataset(H, W, C, num_classes, rotation_invariant=True)\n",
    "dataloader = DataLoader(dataset, batch_size=B, shuffle=False)"
   ]
  },
  {
   "cell_type": "markdown",
   "id": "db472863",
   "metadata": {},
   "source": [
    "The operations below are repeated for every batch sampled from the dataset. Let's sample a single dummy batch with `inputs` of shape (B, C, H, W) to demonstrate MRE. "
   ]
  },
  {
   "cell_type": "code",
   "execution_count": 83,
   "id": "c2f906b2",
   "metadata": {
    "ExecuteTime": {
     "end_time": "2022-06-10T11:02:37.272597Z",
     "start_time": "2022-06-10T11:02:37.255606Z"
    }
   },
   "outputs": [],
   "source": [
    "inputs, labels = next(iter(dataloader))"
   ]
  },
  {
   "cell_type": "code",
   "execution_count": 84,
   "id": "d8645cb9",
   "metadata": {
    "ExecuteTime": {
     "end_time": "2022-06-10T11:02:37.503553Z",
     "start_time": "2022-06-10T11:02:37.488551Z"
    }
   },
   "outputs": [
    {
     "data": {
      "text/plain": [
       "torch.Size([5, 3, 96, 96])"
      ]
     },
     "execution_count": 84,
     "metadata": {},
     "output_type": "execute_result"
    }
   ],
   "source": [
    "inputs.shape"
   ]
  },
  {
   "cell_type": "markdown",
   "id": "0b0ad6e2",
   "metadata": {},
   "source": [
    "The first image contains only zeros."
   ]
  },
  {
   "cell_type": "code",
   "execution_count": 85,
   "id": "209c1dbc",
   "metadata": {
    "ExecuteTime": {
     "end_time": "2022-06-10T11:02:37.751862Z",
     "start_time": "2022-06-10T11:02:37.731865Z"
    }
   },
   "outputs": [
    {
     "data": {
      "text/plain": [
       "tensor([[[0., 0., 0.,  ..., 0., 0., 0.],\n",
       "         [0., 0., 0.,  ..., 0., 0., 0.],\n",
       "         [0., 0., 0.,  ..., 0., 0., 0.],\n",
       "         ...,\n",
       "         [0., 0., 0.,  ..., 0., 0., 0.],\n",
       "         [0., 0., 0.,  ..., 0., 0., 0.],\n",
       "         [0., 0., 0.,  ..., 0., 0., 0.]],\n",
       "\n",
       "        [[0., 0., 0.,  ..., 0., 0., 0.],\n",
       "         [0., 0., 0.,  ..., 0., 0., 0.],\n",
       "         [0., 0., 0.,  ..., 0., 0., 0.],\n",
       "         ...,\n",
       "         [0., 0., 0.,  ..., 0., 0., 0.],\n",
       "         [0., 0., 0.,  ..., 0., 0., 0.],\n",
       "         [0., 0., 0.,  ..., 0., 0., 0.]],\n",
       "\n",
       "        [[0., 0., 0.,  ..., 0., 0., 0.],\n",
       "         [0., 0., 0.,  ..., 0., 0., 0.],\n",
       "         [0., 0., 0.,  ..., 0., 0., 0.],\n",
       "         ...,\n",
       "         [0., 0., 0.,  ..., 0., 0., 0.],\n",
       "         [0., 0., 0.,  ..., 0., 0., 0.],\n",
       "         [0., 0., 0.,  ..., 0., 0., 0.]]])"
      ]
     },
     "execution_count": 85,
     "metadata": {},
     "output_type": "execute_result"
    }
   ],
   "source": [
    "inputs[0]"
   ]
  },
  {
   "cell_type": "markdown",
   "id": "964737fb",
   "metadata": {},
   "source": [
    "The second image contains only ones."
   ]
  },
  {
   "cell_type": "code",
   "execution_count": 86,
   "id": "04d89ddf",
   "metadata": {
    "ExecuteTime": {
     "end_time": "2022-06-10T11:02:37.998702Z",
     "start_time": "2022-06-10T11:02:37.982702Z"
    }
   },
   "outputs": [
    {
     "data": {
      "text/plain": [
       "tensor([[[1., 1., 1.,  ..., 1., 1., 1.],\n",
       "         [1., 1., 1.,  ..., 1., 1., 1.],\n",
       "         [1., 1., 1.,  ..., 1., 1., 1.],\n",
       "         ...,\n",
       "         [1., 1., 1.,  ..., 1., 1., 1.],\n",
       "         [1., 1., 1.,  ..., 1., 1., 1.],\n",
       "         [1., 1., 1.,  ..., 1., 1., 1.]],\n",
       "\n",
       "        [[1., 1., 1.,  ..., 1., 1., 1.],\n",
       "         [1., 1., 1.,  ..., 1., 1., 1.],\n",
       "         [1., 1., 1.,  ..., 1., 1., 1.],\n",
       "         ...,\n",
       "         [1., 1., 1.,  ..., 1., 1., 1.],\n",
       "         [1., 1., 1.,  ..., 1., 1., 1.],\n",
       "         [1., 1., 1.,  ..., 1., 1., 1.]],\n",
       "\n",
       "        [[1., 1., 1.,  ..., 1., 1., 1.],\n",
       "         [1., 1., 1.,  ..., 1., 1., 1.],\n",
       "         [1., 1., 1.,  ..., 1., 1., 1.],\n",
       "         ...,\n",
       "         [1., 1., 1.,  ..., 1., 1., 1.],\n",
       "         [1., 1., 1.,  ..., 1., 1., 1.],\n",
       "         [1., 1., 1.,  ..., 1., 1., 1.]]])"
      ]
     },
     "execution_count": 86,
     "metadata": {},
     "output_type": "execute_result"
    }
   ],
   "source": [
    "inputs[1]"
   ]
  },
  {
   "cell_type": "code",
   "execution_count": 87,
   "id": "3b748c3b",
   "metadata": {
    "ExecuteTime": {
     "end_time": "2022-06-10T11:02:38.591214Z",
     "start_time": "2022-06-10T11:02:38.581214Z"
    }
   },
   "outputs": [
    {
     "data": {
      "text/plain": [
       "tensor([1, 0, 1, 1, 1])"
      ]
     },
     "execution_count": 87,
     "metadata": {},
     "output_type": "execute_result"
    }
   ],
   "source": [
    "labels"
   ]
  },
  {
   "cell_type": "markdown",
   "id": "aba0dad6",
   "metadata": {},
   "source": [
    "Next we have to rotate the input image by $N$ angles, we do that using a custom transformation."
   ]
  },
  {
   "cell_type": "code",
   "execution_count": 88,
   "id": "0ef37831",
   "metadata": {
    "ExecuteTime": {
     "end_time": "2022-06-10T11:02:43.573259Z",
     "start_time": "2022-06-10T11:02:43.564258Z"
    }
   },
   "outputs": [],
   "source": [
    "import torch\n",
    "from torchvision.transforms.functional import rotate\n",
    "\n",
    "\n",
    "class DiscreteRotation:\n",
    "    \"\"\"Rotate image by one of the given angles.\n",
    "\n",
    "    Arguments:\n",
    "        angles: list(ints). List of integer degrees to pick from. E.g. [0, 90, 180, 270] for a random 90-degree-like rotation\n",
    "    \"\"\"\n",
    "\n",
    "    def __init__(self, angles):\n",
    "        self.angles = angles\n",
    "\n",
    "    def __call__(self, x):\n",
    "        angle = self.angles[torch.randperm(len(self.angles))[0]]\n",
    "        return rotate(x, angle)\n",
    "\n",
    "    def __repr__(self):\n",
    "        return f\"{self.__class__.__name__}(angles={self.angles})\"\n"
   ]
  },
  {
   "cell_type": "code",
   "execution_count": 89,
   "id": "98832da4",
   "metadata": {
    "ExecuteTime": {
     "end_time": "2022-06-10T11:02:44.358484Z",
     "start_time": "2022-06-10T11:02:44.340419Z"
    }
   },
   "outputs": [],
   "source": [
    "angles = np.linspace(start=0, stop=360, num=N, endpoint=False)\n",
    "rotations = [DiscreteRotation(angles=[angle]) for angle in angles]"
   ]
  },
  {
   "cell_type": "markdown",
   "id": "f7fa551e",
   "metadata": {},
   "source": [
    "Given $N=4$, we will rotate every image by 0, 90, 180 and 270 degrees."
   ]
  },
  {
   "cell_type": "code",
   "execution_count": 108,
   "id": "4572c3fe",
   "metadata": {
    "ExecuteTime": {
     "end_time": "2022-06-10T11:25:27.668331Z",
     "start_time": "2022-06-10T11:25:27.659331Z"
    }
   },
   "outputs": [
    {
     "data": {
      "text/plain": [
       "array([  0.,  90., 180., 270.])"
      ]
     },
     "execution_count": 108,
     "metadata": {},
     "output_type": "execute_result"
    }
   ],
   "source": [
    "angles"
   ]
  },
  {
   "cell_type": "code",
   "execution_count": 90,
   "id": "1da45281",
   "metadata": {
    "ExecuteTime": {
     "end_time": "2022-06-10T11:02:44.841608Z",
     "start_time": "2022-06-10T11:02:44.819610Z"
    }
   },
   "outputs": [],
   "source": [
    "rotated_inputs_list = [rotation(inputs) for rotation in rotations]"
   ]
  },
  {
   "cell_type": "markdown",
   "id": "04b961c3",
   "metadata": {},
   "source": [
    "This yields a list of $N$ tensors of shape (B, C, H, W), one for every rotation. We concatenate this list into a single ($N*B$, $C$, $H$, $W$) tensor in order to pass it all at once through the model."
   ]
  },
  {
   "cell_type": "code",
   "execution_count": 91,
   "id": "9c6d748c",
   "metadata": {
    "ExecuteTime": {
     "end_time": "2022-06-10T11:02:45.450075Z",
     "start_time": "2022-06-10T11:02:45.439073Z"
    }
   },
   "outputs": [
    {
     "data": {
      "text/plain": [
       "[torch.Size([5, 3, 96, 96]),\n",
       " torch.Size([5, 3, 96, 96]),\n",
       " torch.Size([5, 3, 96, 96]),\n",
       " torch.Size([5, 3, 96, 96])]"
      ]
     },
     "execution_count": 91,
     "metadata": {},
     "output_type": "execute_result"
    }
   ],
   "source": [
    "[rot_inputs.shape for rot_inputs in rotated_inputs_list]"
   ]
  },
  {
   "cell_type": "code",
   "execution_count": 92,
   "id": "f7541eed",
   "metadata": {
    "ExecuteTime": {
     "end_time": "2022-06-10T11:02:45.823722Z",
     "start_time": "2022-06-10T11:02:45.806723Z"
    }
   },
   "outputs": [],
   "source": [
    "rotated_inputs = torch.cat(rotated_inputs_list, dim=0)"
   ]
  },
  {
   "cell_type": "code",
   "execution_count": 93,
   "id": "26ac2d04",
   "metadata": {
    "ExecuteTime": {
     "end_time": "2022-06-10T11:02:46.479347Z",
     "start_time": "2022-06-10T11:02:46.463344Z"
    }
   },
   "outputs": [
    {
     "data": {
      "text/plain": [
       "torch.Size([20, 3, 96, 96])"
      ]
     },
     "execution_count": 93,
     "metadata": {},
     "output_type": "execute_result"
    }
   ],
   "source": [
    "rotated_inputs.shape"
   ]
  },
  {
   "cell_type": "markdown",
   "id": "10474e37",
   "metadata": {},
   "source": [
    "It is important to note that the first $B$ indices in the 0th dimension relate to rotations by 0 degrees of each image. So the 0th index relates to the first image rotated by 0 degrees, 1st index relates the second image rotated by 0 degrees and the Bth inde relates again to the first image but rotated by 90 degrees (for $N=4$)."
   ]
  },
  {
   "cell_type": "code",
   "execution_count": 94,
   "id": "5d99f3d7",
   "metadata": {
    "ExecuteTime": {
     "end_time": "2022-06-10T11:02:47.050518Z",
     "start_time": "2022-06-10T11:02:47.029438Z"
    }
   },
   "outputs": [
    {
     "data": {
      "text/plain": [
       "tensor([[[0., 0., 0.,  ..., 0., 0., 0.],\n",
       "         [0., 0., 0.,  ..., 0., 0., 0.],\n",
       "         [0., 0., 0.,  ..., 0., 0., 0.],\n",
       "         ...,\n",
       "         [0., 0., 0.,  ..., 0., 0., 0.],\n",
       "         [0., 0., 0.,  ..., 0., 0., 0.],\n",
       "         [0., 0., 0.,  ..., 0., 0., 0.]],\n",
       "\n",
       "        [[0., 0., 0.,  ..., 0., 0., 0.],\n",
       "         [0., 0., 0.,  ..., 0., 0., 0.],\n",
       "         [0., 0., 0.,  ..., 0., 0., 0.],\n",
       "         ...,\n",
       "         [0., 0., 0.,  ..., 0., 0., 0.],\n",
       "         [0., 0., 0.,  ..., 0., 0., 0.],\n",
       "         [0., 0., 0.,  ..., 0., 0., 0.]],\n",
       "\n",
       "        [[0., 0., 0.,  ..., 0., 0., 0.],\n",
       "         [0., 0., 0.,  ..., 0., 0., 0.],\n",
       "         [0., 0., 0.,  ..., 0., 0., 0.],\n",
       "         ...,\n",
       "         [0., 0., 0.,  ..., 0., 0., 0.],\n",
       "         [0., 0., 0.,  ..., 0., 0., 0.],\n",
       "         [0., 0., 0.,  ..., 0., 0., 0.]]])"
      ]
     },
     "execution_count": 94,
     "metadata": {},
     "output_type": "execute_result"
    }
   ],
   "source": [
    "rotated_inputs[0,...]"
   ]
  },
  {
   "cell_type": "code",
   "execution_count": 95,
   "id": "bc1964a1",
   "metadata": {
    "ExecuteTime": {
     "end_time": "2022-06-10T11:02:47.592096Z",
     "start_time": "2022-06-10T11:02:47.570095Z"
    }
   },
   "outputs": [
    {
     "data": {
      "text/plain": [
       "tensor([[[1., 1., 1.,  ..., 1., 1., 1.],\n",
       "         [1., 1., 1.,  ..., 1., 1., 1.],\n",
       "         [1., 1., 1.,  ..., 1., 1., 1.],\n",
       "         ...,\n",
       "         [1., 1., 1.,  ..., 1., 1., 1.],\n",
       "         [1., 1., 1.,  ..., 1., 1., 1.],\n",
       "         [1., 1., 1.,  ..., 1., 1., 1.]],\n",
       "\n",
       "        [[1., 1., 1.,  ..., 1., 1., 1.],\n",
       "         [1., 1., 1.,  ..., 1., 1., 1.],\n",
       "         [1., 1., 1.,  ..., 1., 1., 1.],\n",
       "         ...,\n",
       "         [1., 1., 1.,  ..., 1., 1., 1.],\n",
       "         [1., 1., 1.,  ..., 1., 1., 1.],\n",
       "         [1., 1., 1.,  ..., 1., 1., 1.]],\n",
       "\n",
       "        [[1., 1., 1.,  ..., 1., 1., 1.],\n",
       "         [1., 1., 1.,  ..., 1., 1., 1.],\n",
       "         [1., 1., 1.,  ..., 1., 1., 1.],\n",
       "         ...,\n",
       "         [1., 1., 1.,  ..., 1., 1., 1.],\n",
       "         [1., 1., 1.,  ..., 1., 1., 1.],\n",
       "         [1., 1., 1.,  ..., 1., 1., 1.]]])"
      ]
     },
     "execution_count": 95,
     "metadata": {},
     "output_type": "execute_result"
    }
   ],
   "source": [
    "rotated_inputs[1,...]"
   ]
  },
  {
   "cell_type": "code",
   "execution_count": 110,
   "id": "288ea044",
   "metadata": {
    "ExecuteTime": {
     "end_time": "2022-06-10T11:29:52.584983Z",
     "start_time": "2022-06-10T11:29:52.574947Z"
    }
   },
   "outputs": [
    {
     "data": {
      "text/plain": [
       "tensor([[[0., 0., 0.,  ..., 0., 0., 0.],\n",
       "         [0., 0., 0.,  ..., 0., 0., 0.],\n",
       "         [0., 0., 0.,  ..., 0., 0., 0.],\n",
       "         ...,\n",
       "         [0., 0., 0.,  ..., 0., 0., 0.],\n",
       "         [0., 0., 0.,  ..., 0., 0., 0.],\n",
       "         [0., 0., 0.,  ..., 0., 0., 0.]],\n",
       "\n",
       "        [[0., 0., 0.,  ..., 0., 0., 0.],\n",
       "         [0., 0., 0.,  ..., 0., 0., 0.],\n",
       "         [0., 0., 0.,  ..., 0., 0., 0.],\n",
       "         ...,\n",
       "         [0., 0., 0.,  ..., 0., 0., 0.],\n",
       "         [0., 0., 0.,  ..., 0., 0., 0.],\n",
       "         [0., 0., 0.,  ..., 0., 0., 0.]],\n",
       "\n",
       "        [[0., 0., 0.,  ..., 0., 0., 0.],\n",
       "         [0., 0., 0.,  ..., 0., 0., 0.],\n",
       "         [0., 0., 0.,  ..., 0., 0., 0.],\n",
       "         ...,\n",
       "         [0., 0., 0.,  ..., 0., 0., 0.],\n",
       "         [0., 0., 0.,  ..., 0., 0., 0.],\n",
       "         [0., 0., 0.,  ..., 0., 0., 0.]]])"
      ]
     },
     "execution_count": 110,
     "metadata": {},
     "output_type": "execute_result"
    }
   ],
   "source": [
    "rotated_inputs[B,...]"
   ]
  },
  {
   "cell_type": "markdown",
   "id": "38b78bb9",
   "metadata": {},
   "source": [
    "Now let's pass these rotated inputs through the model."
   ]
  },
  {
   "cell_type": "code",
   "execution_count": 111,
   "id": "9eb759f7",
   "metadata": {
    "ExecuteTime": {
     "end_time": "2022-06-10T11:32:10.047748Z",
     "start_time": "2022-06-10T11:32:09.904671Z"
    },
    "scrolled": true
   },
   "outputs": [],
   "source": [
    "from torchvision.models import resnet18\n",
    "\n",
    "model = resnet18(num_classes=num_classes)\n",
    "# model.eval()"
   ]
  },
  {
   "cell_type": "code",
   "execution_count": 98,
   "id": "5ac5f5e0",
   "metadata": {
    "ExecuteTime": {
     "end_time": "2022-06-10T11:02:52.348840Z",
     "start_time": "2022-06-10T11:02:52.210842Z"
    }
   },
   "outputs": [],
   "source": [
    "outputs = model(rotated_inputs)"
   ]
  },
  {
   "cell_type": "code",
   "execution_count": 99,
   "id": "236649d5",
   "metadata": {
    "ExecuteTime": {
     "end_time": "2022-06-10T11:02:54.423737Z",
     "start_time": "2022-06-10T11:02:54.405770Z"
    }
   },
   "outputs": [
    {
     "data": {
      "text/plain": [
       "tensor([[ 0.0158,  0.0403],\n",
       "        [ 0.0505, -0.2094],\n",
       "        [ 0.0853, -0.4592],\n",
       "        [ 0.1200, -0.7090],\n",
       "        [ 0.1548, -0.9588],\n",
       "        [ 0.0158,  0.0403],\n",
       "        [ 0.0505, -0.2094],\n",
       "        [ 0.0853, -0.4592],\n",
       "        [ 0.1200, -0.7090],\n",
       "        [ 0.1548, -0.9588],\n",
       "        [ 0.0158,  0.0403],\n",
       "        [ 0.0505, -0.2094],\n",
       "        [ 0.0853, -0.4592],\n",
       "        [ 0.1200, -0.7090],\n",
       "        [ 0.1548, -0.9588],\n",
       "        [ 0.0158,  0.0403],\n",
       "        [ 0.0505, -0.2094],\n",
       "        [ 0.0853, -0.4592],\n",
       "        [ 0.1200, -0.7090],\n",
       "        [ 0.1548, -0.9588]], grad_fn=<AddmmBackward0>)"
      ]
     },
     "execution_count": 99,
     "metadata": {},
     "output_type": "execute_result"
    }
   ],
   "source": [
    "outputs"
   ]
  },
  {
   "cell_type": "markdown",
   "id": "6cc0ae2c",
   "metadata": {},
   "source": [
    "The model itself doesn't include a softmax layer because it is included inside `torch.nn.CrossEntropyLoss()` during normal training. Therefore, we need to pass the outputs through a softmax to obtain probabilities."
   ]
  },
  {
   "cell_type": "code",
   "execution_count": 123,
   "id": "011e7a41",
   "metadata": {
    "ExecuteTime": {
     "end_time": "2022-06-10T18:46:21.809014Z",
     "start_time": "2022-06-10T18:46:21.770001Z"
    }
   },
   "outputs": [
    {
     "data": {
      "text/plain": [
       "(torch.Size([20, 2]),\n",
       " tensor([[0.4939, 0.5061],\n",
       "         [0.5646, 0.4354],\n",
       "         [0.6329, 0.3671],\n",
       "         [0.6961, 0.3039],\n",
       "         [0.7528, 0.2472],\n",
       "         [0.4939, 0.5061],\n",
       "         [0.5646, 0.4354],\n",
       "         [0.6329, 0.3671],\n",
       "         [0.6961, 0.3039],\n",
       "         [0.7528, 0.2472],\n",
       "         [0.4939, 0.5061],\n",
       "         [0.5646, 0.4354],\n",
       "         [0.6329, 0.3671],\n",
       "         [0.6961, 0.3039],\n",
       "         [0.7528, 0.2472],\n",
       "         [0.4939, 0.5061],\n",
       "         [0.5646, 0.4354],\n",
       "         [0.6329, 0.3671],\n",
       "         [0.6961, 0.3039],\n",
       "         [0.7528, 0.2472]], grad_fn=<SoftmaxBackward0>))"
      ]
     },
     "execution_count": 123,
     "metadata": {},
     "output_type": "execute_result"
    }
   ],
   "source": [
    "import torch.nn.functional as F\n",
    "\n",
    "probs = F.softmax(outputs, dim=1)\n",
    "probs.shape, probs"
   ]
  },
  {
   "cell_type": "markdown",
   "id": "db67bac7",
   "metadata": {},
   "source": [
    "You can see now that every row contains two probabilities that sum to 1. Another thing we observe is that every row is repeated $N$ times. That's because our images are rotation-invariant and as a consquence so are their model outputs. To make this more clear, we reshape to (B, N, num_classes) in order to have separate dimensions for images and rotations. "
   ]
  },
  {
   "cell_type": "code",
   "execution_count": 103,
   "id": "e5dad167",
   "metadata": {
    "ExecuteTime": {
     "end_time": "2022-06-10T11:03:25.946079Z",
     "start_time": "2022-06-10T11:03:25.926081Z"
    }
   },
   "outputs": [
    {
     "data": {
      "text/plain": [
       "(torch.Size([5, 4, 2]),\n",
       " tensor([[[0.4939, 0.5061],\n",
       "          [0.4939, 0.5061],\n",
       "          [0.4939, 0.5061],\n",
       "          [0.4939, 0.5061]],\n",
       " \n",
       "         [[0.5646, 0.4354],\n",
       "          [0.5646, 0.4354],\n",
       "          [0.5646, 0.4354],\n",
       "          [0.5646, 0.4354]],\n",
       " \n",
       "         [[0.6329, 0.3671],\n",
       "          [0.6329, 0.3671],\n",
       "          [0.6329, 0.3671],\n",
       "          [0.6329, 0.3671]],\n",
       " \n",
       "         [[0.6961, 0.3039],\n",
       "          [0.6961, 0.3039],\n",
       "          [0.6961, 0.3039],\n",
       "          [0.6961, 0.3039]],\n",
       " \n",
       "         [[0.7528, 0.2472],\n",
       "          [0.7528, 0.2472],\n",
       "          [0.7528, 0.2472],\n",
       "          [0.7528, 0.2472]]], grad_fn=<PermuteBackward0>))"
      ]
     },
     "execution_count": 103,
     "metadata": {},
     "output_type": "execute_result"
    }
   ],
   "source": [
    "probs = probs.reshape((N, B, -1)).permute(1, 0, 2)\n",
    "probs.shape, probs"
   ]
  },
  {
   "cell_type": "markdown",
   "id": "bc7f4aa8",
   "metadata": {},
   "source": [
    "Next, we want to keep the probabilities of the correct class for every image. We do that with `torch.gather()` which requires us to reshape our labels."
   ]
  },
  {
   "cell_type": "code",
   "execution_count": 104,
   "id": "e4d035ef",
   "metadata": {
    "ExecuteTime": {
     "end_time": "2022-06-10T11:03:44.770006Z",
     "start_time": "2022-06-10T11:03:44.757980Z"
    }
   },
   "outputs": [
    {
     "data": {
      "text/plain": [
       "(torch.Size([5, 4, 1]),\n",
       " tensor([[[1],\n",
       "          [1],\n",
       "          [1],\n",
       "          [1]],\n",
       " \n",
       "         [[0],\n",
       "          [0],\n",
       "          [0],\n",
       "          [0]],\n",
       " \n",
       "         [[1],\n",
       "          [1],\n",
       "          [1],\n",
       "          [1]],\n",
       " \n",
       "         [[1],\n",
       "          [1],\n",
       "          [1],\n",
       "          [1]],\n",
       " \n",
       "         [[1],\n",
       "          [1],\n",
       "          [1],\n",
       "          [1]]]))"
      ]
     },
     "execution_count": 104,
     "metadata": {},
     "output_type": "execute_result"
    }
   ],
   "source": [
    "label_indices = labels.unsqueeze(dim=1).unsqueeze(dim=2).repeat(1, N, 1)\n",
    "label_indices.shape, label_indices"
   ]
  },
  {
   "cell_type": "code",
   "execution_count": 105,
   "id": "78cc8515",
   "metadata": {
    "ExecuteTime": {
     "end_time": "2022-06-10T11:03:52.490583Z",
     "start_time": "2022-06-10T11:03:52.479583Z"
    }
   },
   "outputs": [
    {
     "data": {
      "text/plain": [
       "(torch.Size([5, 4, 1]),\n",
       " tensor([[[0.5061],\n",
       "          [0.5061],\n",
       "          [0.5061],\n",
       "          [0.5061]],\n",
       " \n",
       "         [[0.5646],\n",
       "          [0.5646],\n",
       "          [0.5646],\n",
       "          [0.5646]],\n",
       " \n",
       "         [[0.3671],\n",
       "          [0.3671],\n",
       "          [0.3671],\n",
       "          [0.3671]],\n",
       " \n",
       "         [[0.3039],\n",
       "          [0.3039],\n",
       "          [0.3039],\n",
       "          [0.3039]],\n",
       " \n",
       "         [[0.2472],\n",
       "          [0.2472],\n",
       "          [0.2472],\n",
       "          [0.2472]]], grad_fn=<GatherBackward0>))"
      ]
     },
     "execution_count": 105,
     "metadata": {},
     "output_type": "execute_result"
    }
   ],
   "source": [
    "target_probs = torch.gather(probs, 2, label_indices)\n",
    "target_probs.shape, target_probs"
   ]
  },
  {
   "cell_type": "markdown",
   "id": "8d11e66e",
   "metadata": {},
   "source": [
    "Let's print again the initial `labels`. Looking at them and at `probs` you can see that `target_probs` preserved only the probabilities of the correct class. Having done that, the compute standard deviation between rotations for every image which shows how robust the predictions are to rotations. Given that our dummy images are rotation-invariant, we practically obtain zeros for every image (although for some it's not *exactly* due to machine precision)."
   ]
  },
  {
   "cell_type": "code",
   "execution_count": 106,
   "id": "3e6ec127",
   "metadata": {
    "ExecuteTime": {
     "end_time": "2022-06-10T11:04:01.431846Z",
     "start_time": "2022-06-10T11:04:01.425849Z"
    },
    "scrolled": true
   },
   "outputs": [
    {
     "data": {
      "text/plain": [
       "(torch.Size([5, 1]),\n",
       " tensor([[0.0000e+00],\n",
       "         [0.0000e+00],\n",
       "         [0.0000e+00],\n",
       "         [2.9802e-08],\n",
       "         [0.0000e+00]], grad_fn=<StdBackward0>))"
      ]
     },
     "execution_count": 106,
     "metadata": {},
     "output_type": "execute_result"
    }
   ],
   "source": [
    "stds = torch.std(target_probs, dim=1)\n",
    "stds.shape, stds"
   ]
  },
  {
   "cell_type": "markdown",
   "id": "f9ce3535",
   "metadata": {},
   "source": [
    "This confirms that our metric implementation works as expected. Here we only demonstrate the operations for one batch, but in the actual implementation, the standard deviations are added to a list and once the loop iterated over all batches, the final MRE is calculated by averaging all standard deviations."
   ]
  }
 ],
 "metadata": {
  "kernelspec": {
   "display_name": "Python 3 (ipykernel)",
   "language": "python",
   "name": "python3"
  },
  "language_info": {
   "codemirror_mode": {
    "name": "ipython",
    "version": 3
   },
   "file_extension": ".py",
   "mimetype": "text/x-python",
   "name": "python",
   "nbconvert_exporter": "python",
   "pygments_lexer": "ipython3",
   "version": "3.9.7"
  }
 },
 "nbformat": 4,
 "nbformat_minor": 5
}
