{
 "cells": [
  {
   "cell_type": "code",
   "execution_count": 1,
   "id": "30168833",
   "metadata": {
    "ExecuteTime": {
     "end_time": "2022-02-14T16:43:55.036801Z",
     "start_time": "2022-02-14T16:43:53.829003Z"
    }
   },
   "outputs": [
    {
     "data": {
      "text/plain": [
       "True"
      ]
     },
     "execution_count": 1,
     "metadata": {},
     "output_type": "execute_result"
    }
   ],
   "source": [
    "import cv2\n",
    "import numpy as np\n",
    "\n",
    "edge = 2*np.array([[-1, 2, -1],\n",
    "           [-1,2,-1],\n",
    "           [-1,2,-1]])\n",
    "blur = np.array([[0.1, 0.1, 0.1],\n",
    "                 [0.1, 0.1, 0.1],\n",
    "                 [0.1, 0.1, 0.1]])\n"
   ]
  },
  {
   "cell_type": "code",
   "execution_count": 3,
   "id": "a2273387",
   "metadata": {
    "ExecuteTime": {
     "end_time": "2022-02-14T16:49:45.891029Z",
     "start_time": "2022-02-14T16:49:45.875947Z"
    }
   },
   "outputs": [
    {
     "data": {
      "text/plain": [
       "True"
      ]
     },
     "execution_count": 3,
     "metadata": {},
     "output_type": "execute_result"
    }
   ],
   "source": [
    "image = cv2.imread('photo_equivariance_example.jpg')\n",
    "convolution_kernel = edge\n",
    "result = cv2.filter2D(image, -1, convolution_kernel)\n",
    "cv2.imwrite('opencv_conv_equivariance_example.jpg', result) "
   ]
  },
  {
   "cell_type": "code",
   "execution_count": null,
   "id": "195de64f",
   "metadata": {},
   "outputs": [],
   "source": [
    "image = cv2.imread('photo_equivariance_example_rot.jpg')\n",
    "convolution_kernel = edge\n",
    "result = cv2.filter2D(image, -1, convolution_kernel)\n",
    "cv2.imwrite('opencv_conv_equivariance_example_rot.jpg', result) "
   ]
  },
  {
   "cell_type": "code",
   "execution_count": 14,
   "id": "4eb831a4",
   "metadata": {
    "ExecuteTime": {
     "end_time": "2022-02-14T16:51:22.595325Z",
     "start_time": "2022-02-14T16:51:22.581254Z"
    }
   },
   "outputs": [
    {
     "data": {
      "text/plain": [
       "True"
      ]
     },
     "execution_count": 14,
     "metadata": {},
     "output_type": "execute_result"
    }
   ],
   "source": [
    "image = cv2.imread('photo_equivariance_example.jpg')\n",
    "\n",
    "cv2.imwrite('opencv_conv_multi_equivariance_example.jpg', image * 1.9) "
   ]
  },
  {
   "cell_type": "code",
   "execution_count": null,
   "id": "cb2f8ba7",
   "metadata": {},
   "outputs": [],
   "source": []
  }
 ],
 "metadata": {
  "kernelspec": {
   "display_name": "Python 3 (ipykernel)",
   "language": "python",
   "name": "python3"
  },
  "language_info": {
   "codemirror_mode": {
    "name": "ipython",
    "version": 3
   },
   "file_extension": ".py",
   "mimetype": "text/x-python",
   "name": "python",
   "nbconvert_exporter": "python",
   "pygments_lexer": "ipython3",
   "version": "3.9.7"
  }
 },
 "nbformat": 4,
 "nbformat_minor": 5
}
